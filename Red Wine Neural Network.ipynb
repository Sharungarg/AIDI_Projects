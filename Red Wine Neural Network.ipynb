{
 "cells": [
  {
   "cell_type": "markdown",
   "id": "63fab380",
   "metadata": {},
   "source": [
    "# Classifying Red Wine Quality\n",
    "> Name: Sharun Garg  \n",
    "Student ID: 200493338"
   ]
  },
  {
   "cell_type": "markdown",
   "id": "da9baa30",
   "metadata": {},
   "source": [
    "## 1. Importing the important libraries "
   ]
  },
  {
   "cell_type": "code",
   "execution_count": 1,
   "id": "3bcbac22",
   "metadata": {},
   "outputs": [
    {
     "name": "stdout",
     "output_type": "stream",
     "text": [
      "Init Plugin\n",
      "Init Graph Optimizer\n",
      "Init Kernel\n"
     ]
    }
   ],
   "source": [
    "import pandas as pd\n",
    "import numpy as np\n",
    "import matplotlib.pyplot as plt\n",
    "import seaborn as sns\n",
    "%matplotlib inline\n",
    "from sklearn.model_selection import train_test_split\n",
    "from sklearn.preprocessing import StandardScaler\n",
    "from sklearn.preprocessing import LabelEncoder\n",
    "from sklearn.metrics import classification_report\n",
    "import tensorflow as tf\n",
    "import tensorflow.feature_column as fc\n",
    "from tensorflow.keras.utils import to_categorical\n",
    "import warnings\n",
    "warnings.filterwarnings(\"ignore\")"
   ]
  },
  {
   "cell_type": "markdown",
   "id": "7174ecf2",
   "metadata": {},
   "source": [
    "### Reading the data"
   ]
  },
  {
   "cell_type": "code",
   "execution_count": 2,
   "id": "b6faccae",
   "metadata": {
    "scrolled": true
   },
   "outputs": [
    {
     "data": {
      "text/html": [
       "<div>\n",
       "<style scoped>\n",
       "    .dataframe tbody tr th:only-of-type {\n",
       "        vertical-align: middle;\n",
       "    }\n",
       "\n",
       "    .dataframe tbody tr th {\n",
       "        vertical-align: top;\n",
       "    }\n",
       "\n",
       "    .dataframe thead th {\n",
       "        text-align: right;\n",
       "    }\n",
       "</style>\n",
       "<table border=\"1\" class=\"dataframe\">\n",
       "  <thead>\n",
       "    <tr style=\"text-align: right;\">\n",
       "      <th></th>\n",
       "      <th>fixed acidity</th>\n",
       "      <th>volatile acidity</th>\n",
       "      <th>citric acid</th>\n",
       "      <th>residual sugar</th>\n",
       "      <th>chlorides</th>\n",
       "      <th>free sulfur dioxide</th>\n",
       "      <th>total sulfur dioxide</th>\n",
       "      <th>density</th>\n",
       "      <th>pH</th>\n",
       "      <th>sulphates</th>\n",
       "      <th>alcohol</th>\n",
       "      <th>quality</th>\n",
       "    </tr>\n",
       "  </thead>\n",
       "  <tbody>\n",
       "    <tr>\n",
       "      <th>159</th>\n",
       "      <td>6.8</td>\n",
       "      <td>0.60</td>\n",
       "      <td>0.18</td>\n",
       "      <td>1.9</td>\n",
       "      <td>0.079</td>\n",
       "      <td>18.0</td>\n",
       "      <td>86.0</td>\n",
       "      <td>0.9968</td>\n",
       "      <td>3.59</td>\n",
       "      <td>0.57</td>\n",
       "      <td>9.3</td>\n",
       "      <td>6</td>\n",
       "    </tr>\n",
       "    <tr>\n",
       "      <th>540</th>\n",
       "      <td>9.2</td>\n",
       "      <td>0.59</td>\n",
       "      <td>0.24</td>\n",
       "      <td>3.3</td>\n",
       "      <td>0.101</td>\n",
       "      <td>20.0</td>\n",
       "      <td>47.0</td>\n",
       "      <td>0.9988</td>\n",
       "      <td>3.26</td>\n",
       "      <td>0.67</td>\n",
       "      <td>9.6</td>\n",
       "      <td>5</td>\n",
       "    </tr>\n",
       "  </tbody>\n",
       "</table>\n",
       "</div>"
      ],
      "text/plain": [
       "     fixed acidity  volatile acidity  citric acid  residual sugar  chlorides  \\\n",
       "159            6.8              0.60         0.18             1.9      0.079   \n",
       "540            9.2              0.59         0.24             3.3      0.101   \n",
       "\n",
       "     free sulfur dioxide  total sulfur dioxide  density    pH  sulphates  \\\n",
       "159                 18.0                  86.0   0.9968  3.59       0.57   \n",
       "540                 20.0                  47.0   0.9988  3.26       0.67   \n",
       "\n",
       "     alcohol  quality  \n",
       "159      9.3        6  \n",
       "540      9.6        5  "
      ]
     },
     "execution_count": 2,
     "metadata": {},
     "output_type": "execute_result"
    }
   ],
   "source": [
    "data = pd.read_csv('winequality-red.csv')\n",
    "data.sample(2)"
   ]
  },
  {
   "cell_type": "markdown",
   "id": "a54a87ba",
   "metadata": {},
   "source": [
    "### Dataset Columns\n",
    "\n",
    "\n",
    "Feature Variables\n",
    "- fixed acidity\n",
    "- volatile acidity\n",
    "- citric acid\n",
    "- residual sugar\n",
    "- chlorides\n",
    "- free sulfur dioxide\n",
    "- total sulfur dioxide\n",
    "- density\n",
    "- pH\n",
    "- sulphates\n",
    "- alcohol \n",
    "  \n",
    "Output variable (based on sensory data):\n",
    "- quality (score between 3 and 8)"
   ]
  },
  {
   "cell_type": "markdown",
   "id": "332a7f66",
   "metadata": {},
   "source": [
    "### Doing the renaming of columns to remove whitespaces"
   ]
  },
  {
   "cell_type": "code",
   "execution_count": 3,
   "id": "e55105e1",
   "metadata": {},
   "outputs": [],
   "source": [
    "data = data.rename(columns={\"fixed acidity\": \"fixed_acidity\", \n",
    "                     \"volatile acidity\": \"volatile_acidity\", \n",
    "                     \"citric acid\": \"citric_acid\",\n",
    "                     \"residual sugar\": \"residual_sugar\",\n",
    "                     \"free sulfur dioxide\": \"free_sulfur_dioxide\",\n",
    "                     \"total sulfur dioxide\": \"total_sulfur_dioxide\"\n",
    "                    })"
   ]
  },
  {
   "cell_type": "markdown",
   "id": "9f2f9f04",
   "metadata": {},
   "source": [
    "### Splitting the data into feature set and label setm"
   ]
  },
  {
   "cell_type": "code",
   "execution_count": 4,
   "id": "68c822c7",
   "metadata": {},
   "outputs": [],
   "source": [
    "data_copy = data.copy()\n",
    "features = data_copy.drop(['quality'], axis = 1)\n",
    "labels = data_copy['quality']"
   ]
  },
  {
   "cell_type": "markdown",
   "id": "e5753964",
   "metadata": {},
   "source": [
    "### Data Shape"
   ]
  },
  {
   "cell_type": "code",
   "execution_count": 5,
   "id": "0f046be2",
   "metadata": {
    "scrolled": true
   },
   "outputs": [
    {
     "name": "stdout",
     "output_type": "stream",
     "text": [
      "Data Shape: (1599, 12)\n",
      "Features Shape: (1599, 11)\n",
      "Labels Shape: (1599,)\n"
     ]
    }
   ],
   "source": [
    "print(f'Data Shape: {data.shape}')\n",
    "print(f'Features Shape: {features.shape}')\n",
    "print(f'Labels Shape: {labels.shape}')"
   ]
  },
  {
   "cell_type": "markdown",
   "id": "b335db70",
   "metadata": {},
   "source": [
    "> **Our data has 1599 entries with 12 columns. 11 of them are features and the last column is of quality**"
   ]
  },
  {
   "cell_type": "code",
   "execution_count": 6,
   "id": "ff45cf1f",
   "metadata": {
    "scrolled": false
   },
   "outputs": [
    {
     "name": "stdout",
     "output_type": "stream",
     "text": [
      "<class 'pandas.core.frame.DataFrame'>\n",
      "RangeIndex: 1599 entries, 0 to 1598\n",
      "Data columns (total 12 columns):\n",
      " #   Column                Non-Null Count  Dtype  \n",
      "---  ------                --------------  -----  \n",
      " 0   fixed_acidity         1599 non-null   float64\n",
      " 1   volatile_acidity      1599 non-null   float64\n",
      " 2   citric_acid           1599 non-null   float64\n",
      " 3   residual_sugar        1599 non-null   float64\n",
      " 4   chlorides             1599 non-null   float64\n",
      " 5   free_sulfur_dioxide   1599 non-null   float64\n",
      " 6   total_sulfur_dioxide  1599 non-null   float64\n",
      " 7   density               1599 non-null   float64\n",
      " 8   pH                    1599 non-null   float64\n",
      " 9   sulphates             1599 non-null   float64\n",
      " 10  alcohol               1599 non-null   float64\n",
      " 11  quality               1599 non-null   int64  \n",
      "dtypes: float64(11), int64(1)\n",
      "memory usage: 150.0 KB\n"
     ]
    }
   ],
   "source": [
    "data.info()"
   ]
  },
  {
   "cell_type": "markdown",
   "id": "49b22aa7",
   "metadata": {},
   "source": [
    "> **There are no null values in data and our data is complete. The datatypes are also all numbers, so we won't need to encode any variables.**"
   ]
  },
  {
   "cell_type": "code",
   "execution_count": 7,
   "id": "fa523ad7",
   "metadata": {
    "scrolled": false
   },
   "outputs": [
    {
     "data": {
      "text/html": [
       "<div>\n",
       "<style scoped>\n",
       "    .dataframe tbody tr th:only-of-type {\n",
       "        vertical-align: middle;\n",
       "    }\n",
       "\n",
       "    .dataframe tbody tr th {\n",
       "        vertical-align: top;\n",
       "    }\n",
       "\n",
       "    .dataframe thead th {\n",
       "        text-align: right;\n",
       "    }\n",
       "</style>\n",
       "<table border=\"1\" class=\"dataframe\">\n",
       "  <thead>\n",
       "    <tr style=\"text-align: right;\">\n",
       "      <th></th>\n",
       "      <th>count</th>\n",
       "      <th>mean</th>\n",
       "      <th>std</th>\n",
       "      <th>min</th>\n",
       "      <th>25%</th>\n",
       "      <th>50%</th>\n",
       "      <th>75%</th>\n",
       "      <th>max</th>\n",
       "    </tr>\n",
       "  </thead>\n",
       "  <tbody>\n",
       "    <tr>\n",
       "      <th>fixed_acidity</th>\n",
       "      <td>1599.0</td>\n",
       "      <td>8.319637</td>\n",
       "      <td>1.741096</td>\n",
       "      <td>4.60000</td>\n",
       "      <td>7.1000</td>\n",
       "      <td>7.90000</td>\n",
       "      <td>9.200000</td>\n",
       "      <td>15.90000</td>\n",
       "    </tr>\n",
       "    <tr>\n",
       "      <th>volatile_acidity</th>\n",
       "      <td>1599.0</td>\n",
       "      <td>0.527821</td>\n",
       "      <td>0.179060</td>\n",
       "      <td>0.12000</td>\n",
       "      <td>0.3900</td>\n",
       "      <td>0.52000</td>\n",
       "      <td>0.640000</td>\n",
       "      <td>1.58000</td>\n",
       "    </tr>\n",
       "    <tr>\n",
       "      <th>citric_acid</th>\n",
       "      <td>1599.0</td>\n",
       "      <td>0.270976</td>\n",
       "      <td>0.194801</td>\n",
       "      <td>0.00000</td>\n",
       "      <td>0.0900</td>\n",
       "      <td>0.26000</td>\n",
       "      <td>0.420000</td>\n",
       "      <td>1.00000</td>\n",
       "    </tr>\n",
       "    <tr>\n",
       "      <th>residual_sugar</th>\n",
       "      <td>1599.0</td>\n",
       "      <td>2.538806</td>\n",
       "      <td>1.409928</td>\n",
       "      <td>0.90000</td>\n",
       "      <td>1.9000</td>\n",
       "      <td>2.20000</td>\n",
       "      <td>2.600000</td>\n",
       "      <td>15.50000</td>\n",
       "    </tr>\n",
       "    <tr>\n",
       "      <th>chlorides</th>\n",
       "      <td>1599.0</td>\n",
       "      <td>0.087467</td>\n",
       "      <td>0.047065</td>\n",
       "      <td>0.01200</td>\n",
       "      <td>0.0700</td>\n",
       "      <td>0.07900</td>\n",
       "      <td>0.090000</td>\n",
       "      <td>0.61100</td>\n",
       "    </tr>\n",
       "    <tr>\n",
       "      <th>free_sulfur_dioxide</th>\n",
       "      <td>1599.0</td>\n",
       "      <td>15.874922</td>\n",
       "      <td>10.460157</td>\n",
       "      <td>1.00000</td>\n",
       "      <td>7.0000</td>\n",
       "      <td>14.00000</td>\n",
       "      <td>21.000000</td>\n",
       "      <td>72.00000</td>\n",
       "    </tr>\n",
       "    <tr>\n",
       "      <th>total_sulfur_dioxide</th>\n",
       "      <td>1599.0</td>\n",
       "      <td>46.467792</td>\n",
       "      <td>32.895324</td>\n",
       "      <td>6.00000</td>\n",
       "      <td>22.0000</td>\n",
       "      <td>38.00000</td>\n",
       "      <td>62.000000</td>\n",
       "      <td>289.00000</td>\n",
       "    </tr>\n",
       "    <tr>\n",
       "      <th>density</th>\n",
       "      <td>1599.0</td>\n",
       "      <td>0.996747</td>\n",
       "      <td>0.001887</td>\n",
       "      <td>0.99007</td>\n",
       "      <td>0.9956</td>\n",
       "      <td>0.99675</td>\n",
       "      <td>0.997835</td>\n",
       "      <td>1.00369</td>\n",
       "    </tr>\n",
       "    <tr>\n",
       "      <th>pH</th>\n",
       "      <td>1599.0</td>\n",
       "      <td>3.311113</td>\n",
       "      <td>0.154386</td>\n",
       "      <td>2.74000</td>\n",
       "      <td>3.2100</td>\n",
       "      <td>3.31000</td>\n",
       "      <td>3.400000</td>\n",
       "      <td>4.01000</td>\n",
       "    </tr>\n",
       "    <tr>\n",
       "      <th>sulphates</th>\n",
       "      <td>1599.0</td>\n",
       "      <td>0.658149</td>\n",
       "      <td>0.169507</td>\n",
       "      <td>0.33000</td>\n",
       "      <td>0.5500</td>\n",
       "      <td>0.62000</td>\n",
       "      <td>0.730000</td>\n",
       "      <td>2.00000</td>\n",
       "    </tr>\n",
       "    <tr>\n",
       "      <th>alcohol</th>\n",
       "      <td>1599.0</td>\n",
       "      <td>10.422983</td>\n",
       "      <td>1.065668</td>\n",
       "      <td>8.40000</td>\n",
       "      <td>9.5000</td>\n",
       "      <td>10.20000</td>\n",
       "      <td>11.100000</td>\n",
       "      <td>14.90000</td>\n",
       "    </tr>\n",
       "    <tr>\n",
       "      <th>quality</th>\n",
       "      <td>1599.0</td>\n",
       "      <td>5.636023</td>\n",
       "      <td>0.807569</td>\n",
       "      <td>3.00000</td>\n",
       "      <td>5.0000</td>\n",
       "      <td>6.00000</td>\n",
       "      <td>6.000000</td>\n",
       "      <td>8.00000</td>\n",
       "    </tr>\n",
       "  </tbody>\n",
       "</table>\n",
       "</div>"
      ],
      "text/plain": [
       "                       count       mean        std      min      25%  \\\n",
       "fixed_acidity         1599.0   8.319637   1.741096  4.60000   7.1000   \n",
       "volatile_acidity      1599.0   0.527821   0.179060  0.12000   0.3900   \n",
       "citric_acid           1599.0   0.270976   0.194801  0.00000   0.0900   \n",
       "residual_sugar        1599.0   2.538806   1.409928  0.90000   1.9000   \n",
       "chlorides             1599.0   0.087467   0.047065  0.01200   0.0700   \n",
       "free_sulfur_dioxide   1599.0  15.874922  10.460157  1.00000   7.0000   \n",
       "total_sulfur_dioxide  1599.0  46.467792  32.895324  6.00000  22.0000   \n",
       "density               1599.0   0.996747   0.001887  0.99007   0.9956   \n",
       "pH                    1599.0   3.311113   0.154386  2.74000   3.2100   \n",
       "sulphates             1599.0   0.658149   0.169507  0.33000   0.5500   \n",
       "alcohol               1599.0  10.422983   1.065668  8.40000   9.5000   \n",
       "quality               1599.0   5.636023   0.807569  3.00000   5.0000   \n",
       "\n",
       "                           50%        75%        max  \n",
       "fixed_acidity          7.90000   9.200000   15.90000  \n",
       "volatile_acidity       0.52000   0.640000    1.58000  \n",
       "citric_acid            0.26000   0.420000    1.00000  \n",
       "residual_sugar         2.20000   2.600000   15.50000  \n",
       "chlorides              0.07900   0.090000    0.61100  \n",
       "free_sulfur_dioxide   14.00000  21.000000   72.00000  \n",
       "total_sulfur_dioxide  38.00000  62.000000  289.00000  \n",
       "density                0.99675   0.997835    1.00369  \n",
       "pH                     3.31000   3.400000    4.01000  \n",
       "sulphates              0.62000   0.730000    2.00000  \n",
       "alcohol               10.20000  11.100000   14.90000  \n",
       "quality                6.00000   6.000000    8.00000  "
      ]
     },
     "execution_count": 7,
     "metadata": {},
     "output_type": "execute_result"
    }
   ],
   "source": [
    "data.describe().T"
   ]
  },
  {
   "cell_type": "markdown",
   "id": "68304ae4",
   "metadata": {},
   "source": [
    "> The Standard Deviation for 'free sulfur dioxide' and 'total sulfur dioxide' is quite high meaning data for these two variables is very dispersed.  \n",
    "Also the difference between 75th percentile and Max values for 'free sulfur dioxide', 'total sulfur dioxide' and 'residual sugar' is a lot indicating the presence of some outliers."
   ]
  },
  {
   "cell_type": "markdown",
   "id": "23e94237",
   "metadata": {},
   "source": [
    "**Checking for Null values**"
   ]
  },
  {
   "cell_type": "code",
   "execution_count": 8,
   "id": "3d371ffc",
   "metadata": {
    "scrolled": true
   },
   "outputs": [
    {
     "data": {
      "text/plain": [
       "fixed_acidity           0\n",
       "volatile_acidity        0\n",
       "citric_acid             0\n",
       "residual_sugar          0\n",
       "chlorides               0\n",
       "free_sulfur_dioxide     0\n",
       "total_sulfur_dioxide    0\n",
       "density                 0\n",
       "pH                      0\n",
       "sulphates               0\n",
       "alcohol                 0\n",
       "quality                 0\n",
       "dtype: int64"
      ]
     },
     "execution_count": 8,
     "metadata": {},
     "output_type": "execute_result"
    }
   ],
   "source": [
    "data.isnull().sum()"
   ]
  },
  {
   "cell_type": "markdown",
   "id": "e23836a0",
   "metadata": {},
   "source": [
    "> There are no null values and our data is complete"
   ]
  },
  {
   "cell_type": "markdown",
   "id": "499fade0",
   "metadata": {},
   "source": [
    "**The quality variable analysis**"
   ]
  },
  {
   "cell_type": "code",
   "execution_count": 9,
   "id": "0f506744",
   "metadata": {
    "scrolled": false
   },
   "outputs": [
    {
     "data": {
      "text/plain": [
       "5    681\n",
       "6    638\n",
       "7    199\n",
       "4     53\n",
       "8     18\n",
       "3     10\n",
       "Name: quality, dtype: int64"
      ]
     },
     "execution_count": 9,
     "metadata": {},
     "output_type": "execute_result"
    }
   ],
   "source": [
    "labels.value_counts()"
   ]
  },
  {
   "cell_type": "markdown",
   "id": "b10ac84b",
   "metadata": {},
   "source": [
    "> Most of the data points are for quality 5, 6 and 7, so we might expect a low performance when predicting qualities of 3, 4 and 8."
   ]
  },
  {
   "cell_type": "markdown",
   "id": "72554173",
   "metadata": {},
   "source": [
    "**Encoding the quality variables to continous values starting from 0 for DNN Classifier**"
   ]
  },
  {
   "cell_type": "code",
   "execution_count": 10,
   "id": "31fa6023",
   "metadata": {},
   "outputs": [],
   "source": [
    "enc = {3:0, 4:1, 5:2, 6:3, 7:4, 8:5}\n",
    "labels_enc = labels.replace(enc)"
   ]
  },
  {
   "cell_type": "code",
   "execution_count": 11,
   "id": "752f021a",
   "metadata": {
    "scrolled": true
   },
   "outputs": [
    {
     "data": {
      "text/plain": [
       "2    681\n",
       "3    638\n",
       "4    199\n",
       "1     53\n",
       "5     18\n",
       "0     10\n",
       "Name: quality, dtype: int64"
      ]
     },
     "execution_count": 11,
     "metadata": {},
     "output_type": "execute_result"
    }
   ],
   "source": [
    "labels_enc.value_counts()"
   ]
  },
  {
   "cell_type": "markdown",
   "id": "1d5f9a91",
   "metadata": {},
   "source": [
    "### Heatmap"
   ]
  },
  {
   "cell_type": "code",
   "execution_count": 12,
   "id": "674cd5d1",
   "metadata": {
    "scrolled": true
   },
   "outputs": [
    {
     "data": {
      "text/plain": [
       "<AxesSubplot:>"
      ]
     },
     "execution_count": 12,
     "metadata": {},
     "output_type": "execute_result"
    },
    {
     "data": {
      "image/png": "[encoded data removed]",
      "text/plain": [
       "<Figure size 1080x720 with 2 Axes>"
      ]
     },
     "metadata": {
      "needs_background": "light"
     },
     "output_type": "display_data"
    }
   ],
   "source": [
    "corr = features.corr()\n",
    "plt.subplots(figsize=(15,10))\n",
    "sns.heatmap(corr, xticklabels=corr.columns, yticklabels=corr.columns, annot=True, cmap=sns.diverging_palette(220, 20, as_cmap=True))\n"
   ]
  },
  {
   "cell_type": "markdown",
   "id": "59e3d81f",
   "metadata": {},
   "source": [
    "> **Observation:**  \n",
    "> ALCOHOL is the most correlated factor with the QUALITY with a linear relationship followed by SULPHATES and CITRIC ACID.  \n",
    "VOLATILE ACIDITY is highest inversely correlated to the quality.  \n",
    "There aren't any very highly correlated factors with value above 0.7, so we don't need to drop any columns from our feature set."
   ]
  },
  {
   "cell_type": "code",
   "execution_count": 13,
   "id": "e3c95053",
   "metadata": {
    "scrolled": true
   },
   "outputs": [
    {
     "data": {
      "image/png": "[encoded data removed]",
      "text/plain": [
       "<Figure size 432x288 with 1 Axes>"
      ]
     },
     "metadata": {
      "needs_background": "light"
     },
     "output_type": "display_data"
    },
    {
     "data": {
      "image/png": "[encoded data removed]",
      "text/plain": [
       "<Figure size 432x288 with 1 Axes>"
      ]
     },
     "metadata": {
      "needs_background": "light"
     },
     "output_type": "display_data"
    },
    {
     "data": {
      "image/png": "[encoded data removed]",
      "text/plain": [
       "<Figure size 432x288 with 1 Axes>"
      ]
     },
     "metadata": {
      "needs_background": "light"
     },
     "output_type": "display_data"
    },
    {
     "data": {
      "image/png": "[encoded data removed]",
      "text/plain": [
       "<Figure size 432x288 with 1 Axes>"
      ]
     },
     "metadata": {
      "needs_background": "light"
     },
     "output_type": "display_data"
    },
    {
     "data": {
      "image/png": "[encoded data removed]",
      "text/plain": [
       "<Figure size 432x288 with 1 Axes>"
      ]
     },
     "metadata": {
      "needs_background": "light"
     },
     "output_type": "display_data"
    },
    {
     "data": {
      "image/png": "[encoded data removed]",
      "text/plain": [
       "<Figure size 432x288 with 1 Axes>"
      ]
     },
     "metadata": {
      "needs_background": "light"
     },
     "output_type": "display_data"
    },
    {
     "data": {
      "image/png": "[encoded data removed]",
      "text/plain": [
       "<Figure size 432x288 with 1 Axes>"
      ]
     },
     "metadata": {
      "needs_background": "light"
     },
     "output_type": "display_data"
    },
    {
     "data": {
      "image/png": "[encoded data removed]",
      "text/plain": [
       "<Figure size 432x288 with 1 Axes>"
      ]
     },
     "metadata": {
      "needs_background": "light"
     },
     "output_type": "display_data"
    },
    {
     "data": {
      "image/png": "[encoded data removed]",
      "text/plain": [
       "<Figure size 432x288 with 1 Axes>"
      ]
     },
     "metadata": {
      "needs_background": "light"
     },
     "output_type": "display_data"
    },
    {
     "data": {
      "image/png": "[encoded data removed]",
      "text/plain": [
       "<Figure size 432x288 with 1 Axes>"
      ]
     },
     "metadata": {
      "needs_background": "light"
     },
     "output_type": "display_data"
    },
    {
     "data": {
      "image/png": "[encoded data removed]",
      "text/plain": [
       "<Figure size 432x288 with 1 Axes>"
      ]
     },
     "metadata": {
      "needs_background": "light"
     },
     "output_type": "display_data"
    }
   ],
   "source": [
    "def histograms(attribute):\n",
    "    att = features[attribute].values\n",
    "    sns.distplot(a=data[attribute], kde=False, color='r')\n",
    "    plt.ylabel(\"Number of datapoints\")\n",
    "    plt.show()\n",
    "\n",
    "for col in features.columns:\n",
    "    histograms(col)"
   ]
  },
  {
   "cell_type": "markdown",
   "id": "877d7c27",
   "metadata": {},
   "source": [
    "> **Observation:** \n",
    "> We can see that the features are closely packed with the presence of some outliers."
   ]
  },
  {
   "cell_type": "markdown",
   "id": "6c760316",
   "metadata": {},
   "source": [
    "### Splitting the data into train and test set."
   ]
  },
  {
   "cell_type": "code",
   "execution_count": 14,
   "id": "4ccdab27",
   "metadata": {},
   "outputs": [],
   "source": [
    "features_train, features_test, y_train, y_test = train_test_split(features, labels_enc, \n",
    "                                                                  train_size=0.7, random_state=42)"
   ]
  },
  {
   "cell_type": "markdown",
   "id": "b7801c68",
   "metadata": {},
   "source": [
    "**Scaling the raw data** "
   ]
  },
  {
   "cell_type": "code",
   "execution_count": 15,
   "id": "d57ab73d",
   "metadata": {},
   "outputs": [],
   "source": [
    "scaler = StandardScaler()\n",
    "X_train = scaler.fit_transform(features_train)\n",
    "X_test = scaler.transform(features_test)"
   ]
  },
  {
   "cell_type": "markdown",
   "id": "eb9d0d25",
   "metadata": {},
   "source": [
    "# Tensorflow Estimator DNN Implementation"
   ]
  },
  {
   "cell_type": "markdown",
   "id": "8d8b8429",
   "metadata": {},
   "source": [
    "**Defining the feature columns for the DNN Model**"
   ]
  },
  {
   "cell_type": "code",
   "execution_count": 16,
   "id": "62285a35",
   "metadata": {},
   "outputs": [],
   "source": [
    "fixed_acidity = fc.numeric_column('fixed_acidity')\n",
    "volatile_acidity = fc.numeric_column('volatile_acidity')\n",
    "citric_acid = fc.numeric_column('citric_acid')\n",
    "residual_sugar = fc.numeric_column('residual_sugar')\n",
    "chlorides = fc.numeric_column('chlorides')\n",
    "free_sulfur_dioxide = fc.numeric_column('free_sulfur_dioxide')\n",
    "total_sulfur_dioxide = fc.numeric_column('total_sulfur_dioxide')\n",
    "density = fc.numeric_column('density')\n",
    "pH = fc.numeric_column('pH')\n",
    "sulphates = fc.numeric_column('sulphates')\n",
    "alcohol = fc.numeric_column('alcohol')\n",
    "\n",
    "feature_cols=[fixed_acidity,\n",
    "              volatile_acidity,\n",
    "              citric_acid,\n",
    "              residual_sugar,\n",
    "              chlorides,\n",
    "              free_sulfur_dioxide,\n",
    "              total_sulfur_dioxide,\n",
    "              density,\n",
    "              pH,\n",
    "              sulphates,\n",
    "              alcohol]"
   ]
  },
  {
   "cell_type": "markdown",
   "id": "a4385cba",
   "metadata": {},
   "source": [
    "**Defining the input functions for training and validation**"
   ]
  },
  {
   "cell_type": "code",
   "execution_count": 17,
   "id": "e5a25a4a",
   "metadata": {},
   "outputs": [],
   "source": [
    "def train_input_fn():\n",
    "    dataset = tf.data.Dataset.from_tensor_slices((dict(pd.DataFrame(X_train, columns=features.columns)), y_train))\n",
    "    dataset = dataset.shuffle(1000).repeat().batch(25)\n",
    "    return dataset\n",
    "def eval_input_fn():\n",
    "    dataset = tf.data.Dataset.from_tensor_slices((dict(pd.DataFrame(X_test, columns=features.columns)), y_test))\n",
    "    return dataset.shuffle(1000).repeat().batch(5)"
   ]
  },
  {
   "cell_type": "markdown",
   "id": "13af5473",
   "metadata": {},
   "source": [
    "**Defining the DNN model with 2 hidden layers of 64 and 32 nodes respectively**"
   ]
  },
  {
   "cell_type": "code",
   "execution_count": 18,
   "id": "d2fc2099",
   "metadata": {
    "scrolled": false
   },
   "outputs": [
    {
     "name": "stdout",
     "output_type": "stream",
     "text": [
      "Metal device set to: Apple M1\n",
      "INFO:tensorflow:Using default config.\n",
      "WARNING:tensorflow:Using temporary folder as model directory: /var/folders/h8/tlp8kyzd4v910rbg173b0g0m0000gn/T/tmphvye3obf\n",
      "INFO:tensorflow:Using config: {'_model_dir': '/var/folders/h8/tlp8kyzd4v910rbg173b0g0m0000gn/T/tmphvye3obf', '_tf_random_seed': None, '_save_summary_steps': 100, '_save_checkpoints_steps': None, '_save_checkpoints_secs': 600, '_session_config': allow_soft_placement: true\n",
      "graph_options {\n",
      "  rewrite_options {\n",
      "    meta_optimizer_iterations: ONE\n",
      "  }\n",
      "}\n",
      ", '_keep_checkpoint_max': 5, '_keep_checkpoint_every_n_hours': 10000, '_log_step_count_steps': 100, '_train_distribute': None, '_device_fn': None, '_protocol': None, '_eval_distribute': None, '_experimental_distribute': None, '_experimental_max_worker_delay_secs': None, '_session_creation_timeout_secs': 7200, '_checkpoint_save_graph_def': True, '_service': None, '_cluster_spec': ClusterSpec({}), '_task_type': 'worker', '_task_id': 0, '_global_id_in_cluster': 0, '_master': '', '_evaluation_master': '', '_is_chief': True, '_num_ps_replicas': 0, '_num_worker_replicas': 1}\n"
     ]
    },
    {
     "name": "stderr",
     "output_type": "stream",
     "text": [
      "2022-02-06 22:52:22.985226: I tensorflow/core/common_runtime/pluggable_device/pluggable_device_factory.cc:305] Could not identify NUMA node of platform GPU ID 0, defaulting to 0. Your kernel may not have been built with NUMA support.\n",
      "2022-02-06 22:52:22.985716: I tensorflow/core/common_runtime/pluggable_device/pluggable_device_factory.cc:271] Created TensorFlow device (/job:localhost/replica:0/task:0/device:GPU:0 with 0 MB memory) -> physical PluggableDevice (device: 0, name: METAL, pci bus id: <undefined>)\n"
     ]
    }
   ],
   "source": [
    "classifier = tf.estimator.DNNClassifier(\n",
    "    feature_columns=feature_cols,\n",
    "    hidden_units=[64,32],\n",
    "    optimizer=tf.optimizers.Adam(0.001),\n",
    "    n_classes=6\n",
    ")"
   ]
  },
  {
   "cell_type": "markdown",
   "id": "4f5b43e3",
   "metadata": {},
   "source": [
    "**Training the model**"
   ]
  },
  {
   "cell_type": "code",
   "execution_count": 19,
   "id": "2b2ec185",
   "metadata": {},
   "outputs": [
    {
     "name": "stdout",
     "output_type": "stream",
     "text": [
      "WARNING:tensorflow:From /Users/sharungarg/miniforge3/envs/tf_nn/lib/python3.9/site-packages/tensorflow/python/training/training_util.py:235: Variable.initialized_value (from tensorflow.python.ops.variables) is deprecated and will be removed in a future version.\n",
      "Instructions for updating:\n",
      "Use Variable.read_value. Variables in 2.X are initialized automatically both in eager and graph (inside tf.defun) contexts.\n",
      "INFO:tensorflow:Calling model_fn.\n",
      "INFO:tensorflow:Done calling model_fn.\n",
      "INFO:tensorflow:Create CheckpointSaverHook.\n",
      "INFO:tensorflow:Graph was finalized.\n",
      "INFO:tensorflow:Running local_init_op.\n",
      "INFO:tensorflow:Done running local_init_op.\n"
     ]
    },
    {
     "name": "stderr",
     "output_type": "stream",
     "text": [
      "2022-02-06 22:52:25.666365: I tensorflow/core/common_runtime/pluggable_device/pluggable_device_factory.cc:305] Could not identify NUMA node of platform GPU ID 0, defaulting to 0. Your kernel may not have been built with NUMA support.\n",
      "2022-02-06 22:52:25.666387: I tensorflow/core/common_runtime/pluggable_device/pluggable_device_factory.cc:271] Created TensorFlow device (/job:localhost/replica:0/task:0/device:GPU:0 with 0 MB memory) -> physical PluggableDevice (device: 0, name: METAL, pci bus id: <undefined>)\n",
      "2022-02-06 22:52:25.682672: W tensorflow/core/platform/profile_utils/cpu_utils.cc:128] Failed to get CPU frequency: 0 Hz\n",
      "2022-02-06 22:52:25.683932: I tensorflow/core/grappler/optimizers/custom_graph_optimizer_registry.cc:112] Plugin optimizer for device_type GPU is enabled.\n",
      "2022-02-06 22:52:25.771688: I tensorflow/core/grappler/optimizers/custom_graph_optimizer_registry.cc:112] Plugin optimizer for device_type GPU is enabled.\n",
      "2022-02-06 22:52:25.781464: I tensorflow/core/grappler/optimizers/custom_graph_optimizer_registry.cc:112] Plugin optimizer for device_type GPU is enabled.\n",
      "2022-02-06 22:52:25.784179: I tensorflow/core/grappler/optimizers/custom_graph_optimizer_registry.cc:112] Plugin optimizer for device_type GPU is enabled.\n",
      "2022-02-06 22:52:25.791792: I tensorflow/core/grappler/optimizers/custom_graph_optimizer_registry.cc:112] Plugin optimizer for device_type GPU is enabled.\n"
     ]
    },
    {
     "name": "stdout",
     "output_type": "stream",
     "text": [
      "INFO:tensorflow:Calling checkpoint listeners before saving checkpoint 0...\n",
      "INFO:tensorflow:Saving checkpoints for 0 into /var/folders/h8/tlp8kyzd4v910rbg173b0g0m0000gn/T/tmphvye3obf/model.ckpt.\n",
      "INFO:tensorflow:Calling checkpoint listeners after saving checkpoint 0...\n",
      "INFO:tensorflow:loss = 1.9601277, step = 0\n"
     ]
    },
    {
     "name": "stderr",
     "output_type": "stream",
     "text": [
      "2022-02-06 22:52:25.904662: I tensorflow/core/grappler/optimizers/custom_graph_optimizer_registry.cc:112] Plugin optimizer for device_type GPU is enabled.\n",
      "2022-02-06 22:52:25.938898: I tensorflow/core/grappler/optimizers/custom_graph_optimizer_registry.cc:112] Plugin optimizer for device_type GPU is enabled.\n",
      "2022-02-06 22:52:25.950038: I tensorflow/core/grappler/optimizers/custom_graph_optimizer_registry.cc:112] Plugin optimizer for device_type GPU is enabled.\n",
      "2022-02-06 22:52:26.088480: I tensorflow/core/grappler/optimizers/custom_graph_optimizer_registry.cc:112] Plugin optimizer for device_type GPU is enabled.\n"
     ]
    },
    {
     "name": "stdout",
     "output_type": "stream",
     "text": [
      "INFO:tensorflow:global_step/sec: 175.57\n",
      "INFO:tensorflow:loss = 1.5816991, step = 100 (0.570 sec)\n",
      "INFO:tensorflow:global_step/sec: 159.161\n",
      "INFO:tensorflow:loss = 0.90306306, step = 200 (0.628 sec)\n",
      "INFO:tensorflow:global_step/sec: 194.93\n",
      "INFO:tensorflow:loss = 1.0819321, step = 300 (0.515 sec)\n",
      "INFO:tensorflow:global_step/sec: 203.941\n",
      "INFO:tensorflow:loss = 0.85138494, step = 400 (0.489 sec)\n",
      "INFO:tensorflow:global_step/sec: 190.531\n",
      "INFO:tensorflow:loss = 1.0203983, step = 500 (0.526 sec)\n",
      "INFO:tensorflow:global_step/sec: 193.871\n",
      "INFO:tensorflow:loss = 0.9132171, step = 600 (0.515 sec)\n",
      "INFO:tensorflow:global_step/sec: 194.319\n",
      "INFO:tensorflow:loss = 0.91044676, step = 700 (0.514 sec)\n",
      "INFO:tensorflow:global_step/sec: 202.389\n",
      "INFO:tensorflow:loss = 0.7176483, step = 800 (0.495 sec)\n",
      "INFO:tensorflow:global_step/sec: 199.382\n",
      "INFO:tensorflow:loss = 0.66608727, step = 900 (0.500 sec)\n",
      "INFO:tensorflow:global_step/sec: 195.493\n",
      "INFO:tensorflow:loss = 0.55974346, step = 1000 (0.512 sec)\n",
      "INFO:tensorflow:global_step/sec: 204.64\n",
      "INFO:tensorflow:loss = 0.67115414, step = 1100 (0.490 sec)\n",
      "INFO:tensorflow:global_step/sec: 201.995\n",
      "INFO:tensorflow:loss = 0.7138794, step = 1200 (0.493 sec)\n",
      "INFO:tensorflow:global_step/sec: 198.147\n",
      "INFO:tensorflow:loss = 0.8614366, step = 1300 (0.505 sec)\n",
      "INFO:tensorflow:global_step/sec: 204.562\n",
      "INFO:tensorflow:loss = 0.89016795, step = 1400 (0.489 sec)\n",
      "INFO:tensorflow:global_step/sec: 199.736\n",
      "INFO:tensorflow:loss = 0.95533687, step = 1500 (0.501 sec)\n",
      "INFO:tensorflow:global_step/sec: 201.024\n",
      "INFO:tensorflow:loss = 0.7184278, step = 1600 (0.497 sec)\n",
      "INFO:tensorflow:global_step/sec: 187.594\n",
      "INFO:tensorflow:loss = 0.7170591, step = 1700 (0.533 sec)\n",
      "INFO:tensorflow:global_step/sec: 199.908\n",
      "INFO:tensorflow:loss = 0.6073163, step = 1800 (0.500 sec)\n",
      "INFO:tensorflow:global_step/sec: 203.303\n",
      "INFO:tensorflow:loss = 0.8730556, step = 1900 (0.492 sec)\n",
      "INFO:tensorflow:global_step/sec: 190.378\n",
      "INFO:tensorflow:loss = 0.62801623, step = 2000 (0.525 sec)\n",
      "INFO:tensorflow:global_step/sec: 195.313\n",
      "INFO:tensorflow:loss = 0.5638133, step = 2100 (0.512 sec)\n",
      "INFO:tensorflow:global_step/sec: 194.872\n",
      "INFO:tensorflow:loss = 0.6415033, step = 2200 (0.513 sec)\n",
      "INFO:tensorflow:global_step/sec: 204.818\n",
      "INFO:tensorflow:loss = 0.45786032, step = 2300 (0.488 sec)\n",
      "INFO:tensorflow:global_step/sec: 199.612\n",
      "INFO:tensorflow:loss = 0.6375847, step = 2400 (0.501 sec)\n",
      "INFO:tensorflow:global_step/sec: 197.97\n",
      "INFO:tensorflow:loss = 0.6713261, step = 2500 (0.505 sec)\n",
      "INFO:tensorflow:global_step/sec: 202.092\n",
      "INFO:tensorflow:loss = 0.71210814, step = 2600 (0.495 sec)\n",
      "INFO:tensorflow:global_step/sec: 200.06\n",
      "INFO:tensorflow:loss = 0.44645086, step = 2700 (0.500 sec)\n",
      "INFO:tensorflow:global_step/sec: 204.782\n",
      "INFO:tensorflow:loss = 0.46522772, step = 2800 (0.489 sec)\n",
      "INFO:tensorflow:global_step/sec: 202.285\n",
      "INFO:tensorflow:loss = 0.54684883, step = 2900 (0.494 sec)\n",
      "INFO:tensorflow:global_step/sec: 208.504\n",
      "INFO:tensorflow:loss = 0.5694622, step = 3000 (0.480 sec)\n",
      "INFO:tensorflow:global_step/sec: 201.426\n",
      "INFO:tensorflow:loss = 0.5400659, step = 3100 (0.496 sec)\n",
      "INFO:tensorflow:global_step/sec: 198.198\n",
      "INFO:tensorflow:loss = 0.8594739, step = 3200 (0.505 sec)\n",
      "INFO:tensorflow:global_step/sec: 191.412\n",
      "INFO:tensorflow:loss = 0.5322299, step = 3300 (0.522 sec)\n",
      "INFO:tensorflow:global_step/sec: 188.929\n",
      "INFO:tensorflow:loss = 0.50502706, step = 3400 (0.529 sec)\n",
      "INFO:tensorflow:global_step/sec: 204.09\n",
      "INFO:tensorflow:loss = 0.50669575, step = 3500 (0.490 sec)\n",
      "INFO:tensorflow:global_step/sec: 202.76\n",
      "INFO:tensorflow:loss = 0.41578668, step = 3600 (0.493 sec)\n",
      "INFO:tensorflow:global_step/sec: 190.754\n",
      "INFO:tensorflow:loss = 0.51091325, step = 3700 (0.524 sec)\n",
      "INFO:tensorflow:global_step/sec: 194.631\n",
      "INFO:tensorflow:loss = 0.6702792, step = 3800 (0.514 sec)\n",
      "INFO:tensorflow:global_step/sec: 193.035\n",
      "INFO:tensorflow:loss = 0.33745113, step = 3900 (0.518 sec)\n",
      "INFO:tensorflow:global_step/sec: 200.625\n",
      "INFO:tensorflow:loss = 0.4428091, step = 4000 (0.499 sec)\n",
      "INFO:tensorflow:global_step/sec: 203.074\n",
      "INFO:tensorflow:loss = 0.41991144, step = 4100 (0.492 sec)\n",
      "INFO:tensorflow:global_step/sec: 198.435\n",
      "INFO:tensorflow:loss = 0.40666118, step = 4200 (0.504 sec)\n",
      "INFO:tensorflow:global_step/sec: 207.372\n",
      "INFO:tensorflow:loss = 0.55473554, step = 4300 (0.482 sec)\n",
      "INFO:tensorflow:global_step/sec: 202.514\n",
      "INFO:tensorflow:loss = 0.87281996, step = 4400 (0.494 sec)\n",
      "INFO:tensorflow:global_step/sec: 201.344\n",
      "INFO:tensorflow:loss = 0.54887813, step = 4500 (0.497 sec)\n",
      "INFO:tensorflow:global_step/sec: 185.102\n",
      "INFO:tensorflow:loss = 0.5483604, step = 4600 (0.540 sec)\n",
      "INFO:tensorflow:global_step/sec: 188.535\n",
      "INFO:tensorflow:loss = 0.30525723, step = 4700 (0.531 sec)\n",
      "INFO:tensorflow:global_step/sec: 204.125\n",
      "INFO:tensorflow:loss = 0.47385612, step = 4800 (0.490 sec)\n",
      "INFO:tensorflow:global_step/sec: 199.574\n",
      "INFO:tensorflow:loss = 0.3343944, step = 4900 (0.501 sec)\n",
      "INFO:tensorflow:Calling checkpoint listeners before saving checkpoint 5000...\n",
      "INFO:tensorflow:Saving checkpoints for 5000 into /var/folders/h8/tlp8kyzd4v910rbg173b0g0m0000gn/T/tmphvye3obf/model.ckpt.\n",
      "INFO:tensorflow:Calling checkpoint listeners after saving checkpoint 5000...\n",
      "INFO:tensorflow:Loss for final step: 0.33404213.\n"
     ]
    },
    {
     "data": {
      "text/plain": [
       "<tensorflow_estimator.python.estimator.canned.dnn.DNNClassifierV2 at 0x280b53d60>"
      ]
     },
     "execution_count": 19,
     "metadata": {},
     "output_type": "execute_result"
    }
   ],
   "source": [
    "classifier.train(input_fn=lambda: train_input_fn(), steps=5000)"
   ]
  },
  {
   "cell_type": "markdown",
   "id": "76bebaef",
   "metadata": {},
   "source": [
    "**Evaluating the model on test set**"
   ]
  },
  {
   "cell_type": "code",
   "execution_count": 20,
   "id": "11d4f42f",
   "metadata": {
    "scrolled": false
   },
   "outputs": [
    {
     "name": "stdout",
     "output_type": "stream",
     "text": [
      "INFO:tensorflow:Calling model_fn.\n",
      "INFO:tensorflow:Done calling model_fn.\n",
      "INFO:tensorflow:Starting evaluation at 2022-02-06T22:52:55\n",
      "INFO:tensorflow:Graph was finalized.\n",
      "INFO:tensorflow:Restoring parameters from /var/folders/h8/tlp8kyzd4v910rbg173b0g0m0000gn/T/tmphvye3obf/model.ckpt-5000\n",
      "INFO:tensorflow:Running local_init_op.\n",
      "INFO:tensorflow:Done running local_init_op.\n",
      "INFO:tensorflow:Evaluation [1/1]\n",
      "INFO:tensorflow:Inference Time : 0.14894s\n",
      "INFO:tensorflow:Finished evaluation at 2022-02-06-22:52:55\n",
      "INFO:tensorflow:Saving dict for global step 5000: accuracy = 0.8, average_loss = 0.5908356, global_step = 5000, loss = 0.5908356\n",
      "INFO:tensorflow:Saving 'checkpoint_path' summary for global step 5000: /var/folders/h8/tlp8kyzd4v910rbg173b0g0m0000gn/T/tmphvye3obf/model.ckpt-5000\n"
     ]
    },
    {
     "name": "stderr",
     "output_type": "stream",
     "text": [
      "2022-02-06 22:52:55.308361: I tensorflow/core/common_runtime/pluggable_device/pluggable_device_factory.cc:305] Could not identify NUMA node of platform GPU ID 0, defaulting to 0. Your kernel may not have been built with NUMA support.\n",
      "2022-02-06 22:52:55.308377: I tensorflow/core/common_runtime/pluggable_device/pluggable_device_factory.cc:271] Created TensorFlow device (/job:localhost/replica:0/task:0/device:GPU:0 with 0 MB memory) -> physical PluggableDevice (device: 0, name: METAL, pci bus id: <undefined>)\n",
      "2022-02-06 22:52:55.318419: I tensorflow/core/grappler/optimizers/custom_graph_optimizer_registry.cc:112] Plugin optimizer for device_type GPU is enabled.\n",
      "2022-02-06 22:52:55.326473: I tensorflow/core/grappler/optimizers/custom_graph_optimizer_registry.cc:112] Plugin optimizer for device_type GPU is enabled.\n",
      "2022-02-06 22:52:55.332149: I tensorflow/core/grappler/optimizers/custom_graph_optimizer_registry.cc:112] Plugin optimizer for device_type GPU is enabled.\n",
      "2022-02-06 22:52:55.337515: I tensorflow/core/grappler/optimizers/custom_graph_optimizer_registry.cc:112] Plugin optimizer for device_type GPU is enabled.\n",
      "2022-02-06 22:52:55.344657: I tensorflow/core/grappler/optimizers/custom_graph_optimizer_registry.cc:112] Plugin optimizer for device_type GPU is enabled.\n",
      "2022-02-06 22:52:55.352518: I tensorflow/core/grappler/optimizers/custom_graph_optimizer_registry.cc:112] Plugin optimizer for device_type GPU is enabled.\n",
      "2022-02-06 22:52:55.421261: I tensorflow/core/grappler/optimizers/custom_graph_optimizer_registry.cc:112] Plugin optimizer for device_type GPU is enabled.\n"
     ]
    },
    {
     "data": {
      "text/plain": [
       "{'accuracy': 0.8,\n",
       " 'average_loss': 0.5908356,\n",
       " 'loss': 0.5908356,\n",
       " 'global_step': 5000}"
      ]
     },
     "execution_count": 20,
     "metadata": {},
     "output_type": "execute_result"
    }
   ],
   "source": [
    "eval_results = classifier.evaluate(input_fn=eval_input_fn, steps=1)\n",
    "eval_results"
   ]
  },
  {
   "cell_type": "markdown",
   "id": "450afa0c",
   "metadata": {},
   "source": [
    "> #### OBSERVATION:  \n",
    "The DNN classifier did decent on the data with 0.8 accuracy. As the data has six output classes with the qualities 3,4, and 8 having very less data points, the model might not be able to fit to those qualities accurately and the performance degrades while classifying those qualities.\n",
    "&nbsp;  \n",
    "&nbsp;"
   ]
  },
  {
   "cell_type": "markdown",
   "id": "4843db37",
   "metadata": {},
   "source": [
    "# Tensorflow Keras Neural Network"
   ]
  },
  {
   "cell_type": "markdown",
   "id": "ceface9f",
   "metadata": {},
   "source": [
    "**Defining the features and labels and doing one hot encoding on the labels**"
   ]
  },
  {
   "cell_type": "code",
   "execution_count": 21,
   "id": "c9d6be08",
   "metadata": {},
   "outputs": [],
   "source": [
    "X = features.values\n",
    "y = labels.values\n",
    "le = LabelEncoder()\n",
    "y = le.fit_transform(y)"
   ]
  },
  {
   "cell_type": "markdown",
   "id": "3caab2ac",
   "metadata": {},
   "source": [
    "**Splitting the data into test and train set and scaling the features**"
   ]
  },
  {
   "cell_type": "code",
   "execution_count": 22,
   "id": "304d063f",
   "metadata": {},
   "outputs": [],
   "source": [
    "X_train, X_test, y_train, y_test = train_test_split(X, y, test_size=0.3, random_state=42)\n",
    "\n",
    "y_train_cat = to_categorical(y_train, 6)\n",
    "y_test_cat = to_categorical(y_test, 6)\n",
    "\n",
    "scaler = StandardScaler()\n",
    "\n",
    "X_train = scaler.fit_transform(X_train)\n",
    "X_test = scaler.transform(X_test)"
   ]
  },
  {
   "cell_type": "markdown",
   "id": "5555be17",
   "metadata": {},
   "source": [
    "**Defining the model with 4 dense layers with 3 having relu activation function and the last layer with sigmoid activation function**"
   ]
  },
  {
   "cell_type": "code",
   "execution_count": 23,
   "id": "c97fcde1",
   "metadata": {},
   "outputs": [],
   "source": [
    "early_stopping = tf.keras.callbacks.EarlyStopping(\n",
    "    min_delta=0.001, # minimium amount of change to count as an improvement\n",
    "    patience=20, # how many epochs to wait before stopping\n",
    "    restore_best_weights=True,\n",
    ")\n",
    "\n",
    "model = tf.keras.Sequential([\n",
    "    tf.keras.layers.Dense(63, activation='relu', input_shape=[11]),\n",
    "    tf.keras.layers.Dense(32, activation='relu'),\n",
    "    tf.keras.layers.Dense(16, activation='relu'),\n",
    "    tf.keras.layers.Dense(6, activation='sigmoid')\n",
    "])\n",
    "\n",
    "model.compile(optimizer='adam',\n",
    "              loss='categorical_crossentropy',\n",
    "              metrics=['accuracy'])"
   ]
  },
  {
   "cell_type": "markdown",
   "id": "ff98dd22",
   "metadata": {},
   "source": [
    "**Training the model**"
   ]
  },
  {
   "cell_type": "code",
   "execution_count": 24,
   "id": "2e1b44c5",
   "metadata": {
    "scrolled": true
   },
   "outputs": [
    {
     "name": "stderr",
     "output_type": "stream",
     "text": [
      "2022-02-06 22:53:38.126334: I tensorflow/compiler/mlir/mlir_graph_optimization_pass.cc:176] None of the MLIR Optimization Passes are enabled (registered 2)\n"
     ]
    },
    {
     "name": "stdout",
     "output_type": "stream",
     "text": [
      "Epoch 1/100\n",
      "16/35 [============>.................] - ETA: 0s - loss: 1.7891 - accuracy: 0.2754"
     ]
    },
    {
     "name": "stderr",
     "output_type": "stream",
     "text": [
      "2022-02-06 22:53:38.390206: I tensorflow/core/grappler/optimizers/custom_graph_optimizer_registry.cc:112] Plugin optimizer for device_type GPU is enabled.\n"
     ]
    },
    {
     "name": "stdout",
     "output_type": "stream",
     "text": [
      "35/35 [==============================] - 1s 12ms/step - loss: 1.7133 - accuracy: 0.3199 - val_loss: 1.5855 - val_accuracy: 0.4021\n",
      "Epoch 2/100\n",
      " 9/35 [======>.......................] - ETA: 0s - loss: 1.5411 - accuracy: 0.4271"
     ]
    },
    {
     "name": "stderr",
     "output_type": "stream",
     "text": [
      "2022-02-06 22:53:38.781982: I tensorflow/core/grappler/optimizers/custom_graph_optimizer_registry.cc:112] Plugin optimizer for device_type GPU is enabled.\n"
     ]
    },
    {
     "name": "stdout",
     "output_type": "stream",
     "text": [
      "35/35 [==============================] - 0s 9ms/step - loss: 1.5038 - accuracy: 0.4307 - val_loss: 1.3922 - val_accuracy: 0.5104\n",
      "Epoch 3/100\n",
      "35/35 [==============================] - 0s 9ms/step - loss: 1.2569 - accuracy: 0.5550 - val_loss: 1.1154 - val_accuracy: 0.5583\n",
      "Epoch 4/100\n",
      "35/35 [==============================] - 0s 9ms/step - loss: 1.0492 - accuracy: 0.5880 - val_loss: 1.0158 - val_accuracy: 0.5542\n",
      "Epoch 5/100\n",
      "35/35 [==============================] - 0s 9ms/step - loss: 0.9880 - accuracy: 0.6282 - val_loss: 0.9903 - val_accuracy: 0.5646\n",
      "Epoch 6/100\n",
      "35/35 [==============================] - 0s 9ms/step - loss: 0.9554 - accuracy: 0.6399 - val_loss: 0.9785 - val_accuracy: 0.5688\n",
      "Epoch 7/100\n",
      "35/35 [==============================] - 0s 9ms/step - loss: 0.9381 - accuracy: 0.6408 - val_loss: 0.9673 - val_accuracy: 0.5750\n",
      "Epoch 8/100\n",
      "35/35 [==============================] - 0s 9ms/step - loss: 0.9229 - accuracy: 0.6408 - val_loss: 0.9593 - val_accuracy: 0.5750\n",
      "Epoch 9/100\n",
      "35/35 [==============================] - 0s 9ms/step - loss: 0.9081 - accuracy: 0.6327 - val_loss: 0.9553 - val_accuracy: 0.5771\n",
      "Epoch 10/100\n",
      "35/35 [==============================] - 0s 10ms/step - loss: 0.9011 - accuracy: 0.6408 - val_loss: 0.9498 - val_accuracy: 0.5750\n",
      "Epoch 11/100\n",
      "35/35 [==============================] - 0s 9ms/step - loss: 0.8871 - accuracy: 0.6416 - val_loss: 0.9475 - val_accuracy: 0.5542\n",
      "Epoch 12/100\n",
      "35/35 [==============================] - 0s 9ms/step - loss: 0.8752 - accuracy: 0.6488 - val_loss: 0.9378 - val_accuracy: 0.5854\n",
      "Epoch 13/100\n",
      "35/35 [==============================] - 0s 9ms/step - loss: 0.8652 - accuracy: 0.6542 - val_loss: 0.9357 - val_accuracy: 0.5875\n",
      "Epoch 14/100\n",
      "35/35 [==============================] - 0s 9ms/step - loss: 0.8557 - accuracy: 0.6613 - val_loss: 0.9314 - val_accuracy: 0.5854\n",
      "Epoch 15/100\n",
      "35/35 [==============================] - 0s 9ms/step - loss: 0.8513 - accuracy: 0.6497 - val_loss: 0.9255 - val_accuracy: 0.5750\n",
      "Epoch 16/100\n",
      "35/35 [==============================] - 0s 9ms/step - loss: 0.8407 - accuracy: 0.6613 - val_loss: 0.9284 - val_accuracy: 0.5875\n",
      "Epoch 17/100\n",
      "35/35 [==============================] - 0s 9ms/step - loss: 0.8336 - accuracy: 0.6685 - val_loss: 0.9264 - val_accuracy: 0.5854\n",
      "Epoch 18/100\n",
      "35/35 [==============================] - 0s 9ms/step - loss: 0.8260 - accuracy: 0.6622 - val_loss: 0.9178 - val_accuracy: 0.5875\n",
      "Epoch 19/100\n",
      "35/35 [==============================] - 0s 10ms/step - loss: 0.8142 - accuracy: 0.6702 - val_loss: 0.9311 - val_accuracy: 0.5667\n",
      "Epoch 20/100\n",
      "35/35 [==============================] - 0s 9ms/step - loss: 0.8065 - accuracy: 0.6765 - val_loss: 0.9222 - val_accuracy: 0.5979\n",
      "Epoch 21/100\n",
      "35/35 [==============================] - 0s 9ms/step - loss: 0.8022 - accuracy: 0.6765 - val_loss: 0.9189 - val_accuracy: 0.6104\n",
      "Epoch 22/100\n",
      "35/35 [==============================] - 0s 9ms/step - loss: 0.7912 - accuracy: 0.6863 - val_loss: 0.9185 - val_accuracy: 0.5917\n",
      "Epoch 23/100\n",
      "35/35 [==============================] - 0s 9ms/step - loss: 0.7860 - accuracy: 0.6854 - val_loss: 0.9142 - val_accuracy: 0.5979\n",
      "Epoch 24/100\n",
      "35/35 [==============================] - 0s 10ms/step - loss: 0.7774 - accuracy: 0.6935 - val_loss: 0.9146 - val_accuracy: 0.6063\n",
      "Epoch 25/100\n",
      "35/35 [==============================] - 0s 9ms/step - loss: 0.7820 - accuracy: 0.6819 - val_loss: 0.9143 - val_accuracy: 0.5917\n",
      "Epoch 26/100\n",
      "35/35 [==============================] - 0s 9ms/step - loss: 0.7676 - accuracy: 0.6836 - val_loss: 0.9289 - val_accuracy: 0.6063\n",
      "Epoch 27/100\n",
      "35/35 [==============================] - 0s 9ms/step - loss: 0.7600 - accuracy: 0.6935 - val_loss: 0.9168 - val_accuracy: 0.6104\n",
      "Epoch 28/100\n",
      "35/35 [==============================] - 0s 9ms/step - loss: 0.7487 - accuracy: 0.7087 - val_loss: 0.9170 - val_accuracy: 0.6125\n",
      "Epoch 29/100\n",
      "35/35 [==============================] - 0s 9ms/step - loss: 0.7454 - accuracy: 0.7149 - val_loss: 0.9241 - val_accuracy: 0.5938\n",
      "Epoch 30/100\n",
      "35/35 [==============================] - 0s 9ms/step - loss: 0.7335 - accuracy: 0.7033 - val_loss: 0.9322 - val_accuracy: 0.5958\n",
      "Epoch 31/100\n",
      "35/35 [==============================] - 0s 9ms/step - loss: 0.7315 - accuracy: 0.7042 - val_loss: 0.9382 - val_accuracy: 0.5708\n",
      "Epoch 32/100\n",
      "35/35 [==============================] - 0s 9ms/step - loss: 0.7170 - accuracy: 0.7122 - val_loss: 0.9270 - val_accuracy: 0.6063\n",
      "Epoch 33/100\n",
      "35/35 [==============================] - 0s 9ms/step - loss: 0.7108 - accuracy: 0.7069 - val_loss: 0.9339 - val_accuracy: 0.5958\n",
      "Epoch 34/100\n",
      "35/35 [==============================] - 0s 9ms/step - loss: 0.7204 - accuracy: 0.7060 - val_loss: 0.9363 - val_accuracy: 0.6063\n",
      "Epoch 35/100\n",
      "35/35 [==============================] - 0s 9ms/step - loss: 0.7000 - accuracy: 0.7230 - val_loss: 0.9418 - val_accuracy: 0.6000\n",
      "Epoch 36/100\n",
      "35/35 [==============================] - 0s 9ms/step - loss: 0.7024 - accuracy: 0.7087 - val_loss: 0.9428 - val_accuracy: 0.6000\n",
      "Epoch 37/100\n",
      "35/35 [==============================] - 0s 9ms/step - loss: 0.6874 - accuracy: 0.7239 - val_loss: 0.9457 - val_accuracy: 0.6000\n",
      "Epoch 38/100\n",
      "35/35 [==============================] - 0s 9ms/step - loss: 0.6823 - accuracy: 0.7248 - val_loss: 0.9487 - val_accuracy: 0.6000\n",
      "Epoch 39/100\n",
      "35/35 [==============================] - 0s 9ms/step - loss: 0.6668 - accuracy: 0.7426 - val_loss: 0.9563 - val_accuracy: 0.5958\n",
      "Epoch 40/100\n",
      "35/35 [==============================] - 0s 9ms/step - loss: 0.6610 - accuracy: 0.7328 - val_loss: 0.9490 - val_accuracy: 0.6083\n",
      "Epoch 41/100\n",
      "35/35 [==============================] - 0s 9ms/step - loss: 0.6566 - accuracy: 0.7337 - val_loss: 0.9518 - val_accuracy: 0.6000\n",
      "Epoch 42/100\n",
      "35/35 [==============================] - 0s 9ms/step - loss: 0.6573 - accuracy: 0.7462 - val_loss: 0.9593 - val_accuracy: 0.6146\n",
      "Epoch 43/100\n",
      "35/35 [==============================] - 0s 10ms/step - loss: 0.6563 - accuracy: 0.7301 - val_loss: 0.9613 - val_accuracy: 0.5979\n"
     ]
    },
    {
     "data": {
      "text/plain": [
       "<tensorflow.python.keras.callbacks.History at 0x283e1fac0>"
      ]
     },
     "execution_count": 24,
     "metadata": {},
     "output_type": "execute_result"
    }
   ],
   "source": [
    "model.fit(X_train,\n",
    "          y_train_cat,\n",
    "          epochs=100,\n",
    "          validation_data=(X_test,y_test_cat),\n",
    "          callbacks=[early_stopping],\n",
    "          verbose=1)"
   ]
  },
  {
   "cell_type": "markdown",
   "id": "8000159a",
   "metadata": {},
   "source": [
    "> #### OBSERVATION:  \n",
    "We can observe that the model did an early stopping at epoch # with an accuracy of over 70% on the training data.  \n",
    "Although the validation accuracy doesn't grow much and is around 60% over training.\n",
    "&nbsp;  \n",
    "&nbsp;"
   ]
  },
  {
   "cell_type": "markdown",
   "id": "e43179a7",
   "metadata": {},
   "source": [
    "## Plotting the Loss and Accuracy for Training and Validation sets "
   ]
  },
  {
   "cell_type": "code",
   "execution_count": 25,
   "id": "84d429d4",
   "metadata": {
    "scrolled": false
   },
   "outputs": [
    {
     "data": {
      "text/plain": [
       "<AxesSubplot:>"
      ]
     },
     "execution_count": 25,
     "metadata": {},
     "output_type": "execute_result"
    },
    {
     "data": {
      "image/png": "[encoded data removed]",
      "text/plain": [
       "<Figure size 432x288 with 1 Axes>"
      ]
     },
     "metadata": {
      "needs_background": "light"
     },
     "output_type": "display_data"
    },
    {
     "data": {
      "image/png": "[encoded data removed]",
      "text/plain": [
       "<Figure size 432x288 with 1 Axes>"
      ]
     },
     "metadata": {
      "needs_background": "light"
     },
     "output_type": "display_data"
    }
   ],
   "source": [
    "losses = pd.DataFrame(model.history.history)\n",
    "\n",
    "losses[['loss','val_loss']].plot()\n",
    "losses[['accuracy','val_accuracy']].plot()"
   ]
  },
  {
   "cell_type": "markdown",
   "id": "a4d8e70a",
   "metadata": {},
   "source": [
    "> #### OBSERVATION:  \n",
    "It if observable from the graph that both the loss and accuracy on the training set drop and increase respectively indicating some overfitting.  \n",
    "&nbsp;  \n",
    "&nbsp;  \n",
    "The Validation set loss and accuracy stay at flat graph after around 20 epochs with values around 0.9 and 60% respectively.\n",
    "&nbsp;  \n",
    "&nbsp;"
   ]
  },
  {
   "cell_type": "markdown",
   "id": "92daca13",
   "metadata": {},
   "source": [
    "**Checking the performance metrics**"
   ]
  },
  {
   "cell_type": "code",
   "execution_count": 26,
   "id": "96ed3898",
   "metadata": {},
   "outputs": [
    {
     "name": "stdout",
     "output_type": "stream",
     "text": [
      "['loss', 'accuracy']\n",
      "[0.9142153859138489, 0.5979167222976685]\n"
     ]
    }
   ],
   "source": [
    "print(model.metrics_names)\n",
    "print(model.evaluate(X_test,y_test_cat,verbose=0))"
   ]
  },
  {
   "cell_type": "markdown",
   "id": "2a7274cb",
   "metadata": {},
   "source": [
    "> As mentioned above in the observation for graphs, the Loss for the model is 0.91 and Accuracy of 60%."
   ]
  },
  {
   "cell_type": "markdown",
   "id": "33f8e6e7",
   "metadata": {},
   "source": [
    "**Checking performance metrics for each quality class**"
   ]
  },
  {
   "cell_type": "code",
   "execution_count": 27,
   "id": "8a184143",
   "metadata": {
    "scrolled": false
   },
   "outputs": [
    {
     "name": "stdout",
     "output_type": "stream",
     "text": [
      "              precision    recall  f1-score   support\n",
      "\n",
      "           3       0.00      0.00      0.00         1\n",
      "           4       0.00      0.00      0.00        17\n",
      "           5       0.66      0.72      0.69       195\n",
      "           6       0.56      0.64      0.60       200\n",
      "           7       0.46      0.31      0.37        61\n",
      "           8       0.00      0.00      0.00         6\n",
      "\n",
      "    accuracy                           0.60       480\n",
      "   macro avg       0.28      0.28      0.28       480\n",
      "weighted avg       0.56      0.60      0.58       480\n",
      "\n"
     ]
    },
    {
     "name": "stderr",
     "output_type": "stream",
     "text": [
      "2022-02-06 22:54:51.638088: I tensorflow/core/grappler/optimizers/custom_graph_optimizer_registry.cc:112] Plugin optimizer for device_type GPU is enabled.\n"
     ]
    }
   ],
   "source": [
    "predictions = le.inverse_transform(np.argmax(model.predict(X_test), axis=-1))\n",
    "print(classification_report(le.inverse_transform(y_test),\n",
    "                            predictions))"
   ]
  },
  {
   "cell_type": "markdown",
   "id": "57033c90",
   "metadata": {},
   "source": [
    "> #### OBSERVATION:  \n",
    "As we can see the performance metrics for quality 3,4, and 8 are poor due to the lack of the data and the model is not able to fit to these classes.   \n",
    "&nbsp;  \n",
    "&nbsp;  \n",
    "The performances metrices for quality 5,6, and 7 are decent, but due to low performance of the above mentioned classes is low, the overall accuracy is 60%.\n",
    "&nbsp;  \n",
    "&nbsp;"
   ]
  },
  {
   "cell_type": "markdown",
   "id": "339c31bf",
   "metadata": {},
   "source": [
    "## Conclusion:  \n",
    "- Both the models had a moderate accuracy of above 60% and 80%. The Keras ANN model had an increased training accuracy of 75% on the trainig set but the test set validation accuracy of 60%.  \n",
    "- Loss for DNN model is also less than the Keras model with values 0.6 and 0.9 respectively.  \n",
    "- The lack of data for quality classes 3,4, and 8 is causing poor performance when it comes to classifying, so the overall accuracy of the model is brought down. More data points for these classes will help in building a model with better accuracy."
   ]
  }
 ],
 "metadata": {
  "kernelspec": {
   "display_name": "Python 3.9 (tf_nn)",
   "language": "python",
   "name": "tf_nn"
  },
  "language_info": {
   "codemirror_mode": {
    "name": "ipython",
    "version": 3
   },
   "file_extension": ".py",
   "mimetype": "text/x-python",
   "name": "python",
   "nbconvert_exporter": "python",
   "pygments_lexer": "ipython3",
   "version": "3.9.9"
  }
 },
 "nbformat": 4,
 "nbformat_minor": 5
}
