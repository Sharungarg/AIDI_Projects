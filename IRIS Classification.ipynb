{
 "cells": [
  {
   "cell_type": "markdown",
   "id": "243d0f3f",
   "metadata": {},
   "source": [
    "# IRIS Dataset - Project 1\n",
    "> Name: Sharun Garg  \n",
    "Student ID: 200493338"
   ]
  },
  {
   "cell_type": "markdown",
   "id": "151694da",
   "metadata": {},
   "source": [
    "## Importing important libraries and Models"
   ]
  },
  {
   "cell_type": "code",
   "execution_count": 1,
   "id": "bd353610",
   "metadata": {},
   "outputs": [],
   "source": [
    "# importing the important libraries and packages before starting\n",
    "import pandas as pd\n",
    "import numpy as np\n",
    "import seaborn as sns\n",
    "import matplotlib.pyplot as plt\n",
    "from sklearn.model_selection import train_test_split, cross_val_score, GridSearchCV\n",
    "from sklearn.ensemble import RandomForestClassifier, GradientBoostingClassifier\n",
    "from sklearn.svm import SVC\n",
    "from sklearn.metrics import accuracy_score, precision_score, recall_score\n",
    "from time import time\n",
    "%matplotlib inline\n",
    "import warnings\n",
    "warnings.filterwarnings(\"ignore\", category=FutureWarning)"
   ]
  },
  {
   "cell_type": "markdown",
   "id": "89b0b680",
   "metadata": {},
   "source": [
    "## 1. Reading the csv file of data as Pandas Dataframe"
   ]
  },
  {
   "cell_type": "code",
   "execution_count": 2,
   "id": "3ddb96ba",
   "metadata": {},
   "outputs": [],
   "source": [
    "# loading the iris dataset\n",
    "file = \"iris-dataset.csv\"\n",
    "data = pd.read_csv(file)"
   ]
  },
  {
   "cell_type": "markdown",
   "id": "6015c790",
   "metadata": {},
   "source": [
    "## 2. Printing a sample of random rows from the IRIS dataframe sample"
   ]
  },
  {
   "cell_type": "code",
   "execution_count": 3,
   "id": "bb2741e6",
   "metadata": {},
   "outputs": [
    {
     "data": {
      "text/html": [
       "<div>\n",
       "<style scoped>\n",
       "    .dataframe tbody tr th:only-of-type {\n",
       "        vertical-align: middle;\n",
       "    }\n",
       "\n",
       "    .dataframe tbody tr th {\n",
       "        vertical-align: top;\n",
       "    }\n",
       "\n",
       "    .dataframe thead th {\n",
       "        text-align: right;\n",
       "    }\n",
       "</style>\n",
       "<table border=\"1\" class=\"dataframe\">\n",
       "  <thead>\n",
       "    <tr style=\"text-align: right;\">\n",
       "      <th></th>\n",
       "      <th>sepal.length</th>\n",
       "      <th>sepal.width</th>\n",
       "      <th>petal.length</th>\n",
       "      <th>petal.width</th>\n",
       "      <th>variety</th>\n",
       "    </tr>\n",
       "  </thead>\n",
       "  <tbody>\n",
       "    <tr>\n",
       "      <th>101</th>\n",
       "      <td>5.8</td>\n",
       "      <td>2.7</td>\n",
       "      <td>5.1</td>\n",
       "      <td>1.9</td>\n",
       "      <td>Virginica</td>\n",
       "    </tr>\n",
       "    <tr>\n",
       "      <th>50</th>\n",
       "      <td>7.0</td>\n",
       "      <td>3.2</td>\n",
       "      <td>4.7</td>\n",
       "      <td>1.4</td>\n",
       "      <td>Versicolor</td>\n",
       "    </tr>\n",
       "    <tr>\n",
       "      <th>117</th>\n",
       "      <td>7.7</td>\n",
       "      <td>3.8</td>\n",
       "      <td>6.7</td>\n",
       "      <td>2.2</td>\n",
       "      <td>Virginica</td>\n",
       "    </tr>\n",
       "    <tr>\n",
       "      <th>79</th>\n",
       "      <td>5.7</td>\n",
       "      <td>2.6</td>\n",
       "      <td>3.5</td>\n",
       "      <td>1.0</td>\n",
       "      <td>Versicolor</td>\n",
       "    </tr>\n",
       "    <tr>\n",
       "      <th>107</th>\n",
       "      <td>7.3</td>\n",
       "      <td>2.9</td>\n",
       "      <td>6.3</td>\n",
       "      <td>1.8</td>\n",
       "      <td>Virginica</td>\n",
       "    </tr>\n",
       "    <tr>\n",
       "      <th>2</th>\n",
       "      <td>4.7</td>\n",
       "      <td>3.2</td>\n",
       "      <td>1.3</td>\n",
       "      <td>0.2</td>\n",
       "      <td>Setosa</td>\n",
       "    </tr>\n",
       "    <tr>\n",
       "      <th>25</th>\n",
       "      <td>5.0</td>\n",
       "      <td>3.0</td>\n",
       "      <td>1.6</td>\n",
       "      <td>0.2</td>\n",
       "      <td>Setosa</td>\n",
       "    </tr>\n",
       "  </tbody>\n",
       "</table>\n",
       "</div>"
      ],
      "text/plain": [
       "     sepal.length  sepal.width  petal.length  petal.width     variety\n",
       "101           5.8          2.7           5.1          1.9   Virginica\n",
       "50            7.0          3.2           4.7          1.4  Versicolor\n",
       "117           7.7          3.8           6.7          2.2   Virginica\n",
       "79            5.7          2.6           3.5          1.0  Versicolor\n",
       "107           7.3          2.9           6.3          1.8   Virginica\n",
       "2             4.7          3.2           1.3          0.2      Setosa\n",
       "25            5.0          3.0           1.6          0.2      Setosa"
      ]
     },
     "execution_count": 3,
     "metadata": {},
     "output_type": "execute_result"
    }
   ],
   "source": [
    "data.sample(7)"
   ]
  },
  {
   "cell_type": "markdown",
   "id": "85278b80",
   "metadata": {},
   "source": [
    "### Explaination of the columns in dataset\n",
    "\n",
    "> - **sepal.length** (float) - length of the flower sepal in cms.\n",
    "> - **sepal.width** (float) - width of the flower sepal in cms.\n",
    "> - **petal.length** (float) - length of the flower petal in cms.\n",
    "> - **petal.width** (float) - width of the flower petal in cms.\n",
    "> - **variety** (object) - variety of the flower."
   ]
  },
  {
   "cell_type": "markdown",
   "id": "e131f2b4",
   "metadata": {},
   "source": [
    "## 3. Getting info of the data points"
   ]
  },
  {
   "cell_type": "code",
   "execution_count": 4,
   "id": "3fee4f1d",
   "metadata": {},
   "outputs": [
    {
     "name": "stdout",
     "output_type": "stream",
     "text": [
      "<class 'pandas.core.frame.DataFrame'>\n",
      "RangeIndex: 150 entries, 0 to 149\n",
      "Data columns (total 5 columns):\n",
      " #   Column        Non-Null Count  Dtype  \n",
      "---  ------        --------------  -----  \n",
      " 0   sepal.length  150 non-null    float64\n",
      " 1   sepal.width   150 non-null    float64\n",
      " 2   petal.length  150 non-null    float64\n",
      " 3   petal.width   150 non-null    float64\n",
      " 4   variety       150 non-null    object \n",
      "dtypes: float64(4), object(1)\n",
      "memory usage: 6.0+ KB\n"
     ]
    }
   ],
   "source": [
    "data.info()"
   ]
  },
  {
   "cell_type": "markdown",
   "id": "7045c497",
   "metadata": {},
   "source": [
    "> ### Observation:  \n",
    "It can be seen that there are no **null** values for any data entry and our data is complete."
   ]
  },
  {
   "cell_type": "markdown",
   "id": "6be9d613",
   "metadata": {},
   "source": [
    "### Checking for the different types of variety in dataset"
   ]
  },
  {
   "cell_type": "code",
   "execution_count": 5,
   "id": "7147eee1",
   "metadata": {},
   "outputs": [
    {
     "data": {
      "text/plain": [
       "Virginica     50\n",
       "Versicolor    50\n",
       "Setosa        50\n",
       "Name: variety, dtype: int64"
      ]
     },
     "execution_count": 5,
     "metadata": {},
     "output_type": "execute_result"
    }
   ],
   "source": [
    "data[\"variety\"].value_counts()"
   ]
  },
  {
   "cell_type": "markdown",
   "id": "500eb163",
   "metadata": {},
   "source": [
    "> There are 3 different type of Varieties and the data entry points are 50 each."
   ]
  },
  {
   "cell_type": "markdown",
   "id": "4d4aa6e0",
   "metadata": {},
   "source": [
    "### Encoding the variety Variable\n",
    "> As the variety variable in of type \"object\" we will need to encode the values to an integer for prediction analysis."
   ]
  },
  {
   "cell_type": "code",
   "execution_count": 6,
   "id": "3240bf51",
   "metadata": {},
   "outputs": [
    {
     "data": {
      "text/html": [
       "<div>\n",
       "<style scoped>\n",
       "    .dataframe tbody tr th:only-of-type {\n",
       "        vertical-align: middle;\n",
       "    }\n",
       "\n",
       "    .dataframe tbody tr th {\n",
       "        vertical-align: top;\n",
       "    }\n",
       "\n",
       "    .dataframe thead th {\n",
       "        text-align: right;\n",
       "    }\n",
       "</style>\n",
       "<table border=\"1\" class=\"dataframe\">\n",
       "  <thead>\n",
       "    <tr style=\"text-align: right;\">\n",
       "      <th></th>\n",
       "      <th>sepal.length</th>\n",
       "      <th>sepal.width</th>\n",
       "      <th>petal.length</th>\n",
       "      <th>petal.width</th>\n",
       "      <th>variety</th>\n",
       "      <th>variety_encoded</th>\n",
       "    </tr>\n",
       "  </thead>\n",
       "  <tbody>\n",
       "    <tr>\n",
       "      <th>92</th>\n",
       "      <td>5.8</td>\n",
       "      <td>2.6</td>\n",
       "      <td>4.0</td>\n",
       "      <td>1.2</td>\n",
       "      <td>Versicolor</td>\n",
       "      <td>1</td>\n",
       "    </tr>\n",
       "    <tr>\n",
       "      <th>20</th>\n",
       "      <td>5.4</td>\n",
       "      <td>3.4</td>\n",
       "      <td>1.7</td>\n",
       "      <td>0.2</td>\n",
       "      <td>Setosa</td>\n",
       "      <td>0</td>\n",
       "    </tr>\n",
       "    <tr>\n",
       "      <th>43</th>\n",
       "      <td>5.0</td>\n",
       "      <td>3.5</td>\n",
       "      <td>1.6</td>\n",
       "      <td>0.6</td>\n",
       "      <td>Setosa</td>\n",
       "      <td>0</td>\n",
       "    </tr>\n",
       "    <tr>\n",
       "      <th>26</th>\n",
       "      <td>5.0</td>\n",
       "      <td>3.4</td>\n",
       "      <td>1.6</td>\n",
       "      <td>0.4</td>\n",
       "      <td>Setosa</td>\n",
       "      <td>0</td>\n",
       "    </tr>\n",
       "    <tr>\n",
       "      <th>4</th>\n",
       "      <td>5.0</td>\n",
       "      <td>3.6</td>\n",
       "      <td>1.4</td>\n",
       "      <td>0.2</td>\n",
       "      <td>Setosa</td>\n",
       "      <td>0</td>\n",
       "    </tr>\n",
       "  </tbody>\n",
       "</table>\n",
       "</div>"
      ],
      "text/plain": [
       "    sepal.length  sepal.width  petal.length  petal.width     variety  \\\n",
       "92           5.8          2.6           4.0          1.2  Versicolor   \n",
       "20           5.4          3.4           1.7          0.2      Setosa   \n",
       "43           5.0          3.5           1.6          0.6      Setosa   \n",
       "26           5.0          3.4           1.6          0.4      Setosa   \n",
       "4            5.0          3.6           1.4          0.2      Setosa   \n",
       "\n",
       "    variety_encoded  \n",
       "92                1  \n",
       "20                0  \n",
       "43                0  \n",
       "26                0  \n",
       "4                 0  "
      ]
     },
     "execution_count": 6,
     "metadata": {},
     "output_type": "execute_result"
    }
   ],
   "source": [
    "variety_mapper = {'Virginica': 2, 'Versicolor': 1, 'Setosa': 0}\n",
    "data[\"variety_encoded\"] = data['variety'].map(variety_mapper)\n",
    "data.sample(5)"
   ]
  },
  {
   "cell_type": "code",
   "execution_count": 7,
   "id": "86753aa7",
   "metadata": {},
   "outputs": [],
   "source": [
    "# Helper function to separate the data into features and labels.\n",
    "def get_features_and_labels():\n",
    "    data_copy = data.copy()\n",
    "    features = data_copy.drop(['variety', 'variety_encoded'], axis = 1)\n",
    "    labels = data_copy['variety_encoded']\n",
    "    return {'features': features, 'labels': labels}"
   ]
  },
  {
   "cell_type": "markdown",
   "id": "17e5f727",
   "metadata": {},
   "source": [
    "### Separating the data into features and labels."
   ]
  },
  {
   "cell_type": "code",
   "execution_count": 8,
   "id": "4735e599",
   "metadata": {},
   "outputs": [],
   "source": [
    "data1 = get_features_and_labels()\n",
    "features1 = data1['features']\n",
    "labels1 = data1['labels']"
   ]
  },
  {
   "cell_type": "markdown",
   "id": "50591df0",
   "metadata": {},
   "source": [
    "## 4. Data Analysis\n",
    "> We will now plot the values of all the 4 lengths for the against each **Variety** and observe if there are any distinctions."
   ]
  },
  {
   "cell_type": "code",
   "execution_count": 9,
   "id": "91e94048",
   "metadata": {},
   "outputs": [],
   "source": [
    "# Helper function to plot histograms\n",
    "def histogram(variable):\n",
    "    sns.distplot(a=data[data['variety'] == 'Setosa'][variable], label=\"Setosa\", kde=False)\n",
    "    sns.distplot(a=data[data['variety'] == 'Virginica'][variable], label=\"Virginica\", kde=False)\n",
    "    sns.distplot(a=data[data['variety'] == 'Versicolor'][variable], label=\"Versicolor\", kde=False)\n",
    "    \n",
    "    var = variable.split(\".\")\n",
    "    plt.title(f\"Histogram of {var[0].capitalize()} {var[1].capitalize()}, by Species\")\n",
    "    plt.ylabel(\"Number of flowers\")\n",
    "    \n",
    "    plt.legend()\n",
    "    plt.show()\n",
    "    \n",
    "# Helper function to plot scatter plots\n",
    "def scatter(col1, col2):\n",
    "    columns = features1.columns.values\n",
    "    formatter = plt.FuncFormatter(lambda i, *args: data['variety'].unique()[int(i)])\n",
    "    plt.figure(figsize=(5, 4))\n",
    "    plt.scatter(features1.values[:, col1], features1.values[:, col2], c=labels1.values)\n",
    "    \n",
    "    plt.colorbar(ticks=[0, 1, 2], format=formatter)\n",
    "    \n",
    "    col1 = columns[col1].split(\".\")\n",
    "    col2 = columns[col2].split(\".\")\n",
    "    plt.xlabel(f\"{col1[0].capitalize()} {col1[1].capitalize()}\")\n",
    "    plt.ylabel(f\"{col2[0].capitalize()} {col2[1].capitalize()}\")\n",
    "    \n",
    "    plt.tight_layout()\n",
    "    plt.show()\n",
    "    "
   ]
  },
  {
   "cell_type": "markdown",
   "id": "73cc2c80",
   "metadata": {},
   "source": [
    "### Plotting different data points for each flower variety."
   ]
  },
  {
   "cell_type": "markdown",
   "id": "eec67115",
   "metadata": {},
   "source": [
    "#### Sepal Length"
   ]
  },
  {
   "cell_type": "code",
   "execution_count": 10,
   "id": "29d61965",
   "metadata": {},
   "outputs": [
    {
     "data": {
      "image/png": "[encoded data removed]",
      "text/plain": [
       "<Figure size 432x288 with 1 Axes>"
      ]
     },
     "metadata": {
      "needs_background": "light"
     },
     "output_type": "display_data"
    }
   ],
   "source": [
    "histogram('sepal.length')"
   ]
  },
  {
   "cell_type": "markdown",
   "id": "73e514f9",
   "metadata": {},
   "source": [
    "> **Observation**:\n",
    "It can be observed that the Sepal Lengths are not Unique to any flower type. Setosa have comparatively smaller sepals as compared to Verginica, and Versicolor has a strong overlap with both the other two flower types."
   ]
  },
  {
   "cell_type": "markdown",
   "id": "baec24e7",
   "metadata": {},
   "source": [
    "#### Sepal Width"
   ]
  },
  {
   "cell_type": "code",
   "execution_count": 11,
   "id": "7cbed35a",
   "metadata": {
    "scrolled": true
   },
   "outputs": [
    {
     "data": {
      "image/png": "[encoded data removed]",
      "text/plain": [
       "<Figure size 432x288 with 1 Axes>"
      ]
     },
     "metadata": {
      "needs_background": "light"
     },
     "output_type": "display_data"
    }
   ],
   "source": [
    "histogram('sepal.width')"
   ]
  },
  {
   "cell_type": "markdown",
   "id": "a1e7c42a",
   "metadata": {},
   "source": [
    "> **Observation**:\n",
    "Similar to Sepal Length, Sepal Widths are also not Unique to any flower type and there's a very strong overlap for values."
   ]
  },
  {
   "cell_type": "markdown",
   "id": "9ca21624",
   "metadata": {},
   "source": [
    "#### Petal Length"
   ]
  },
  {
   "cell_type": "code",
   "execution_count": 12,
   "id": "d4f5a307",
   "metadata": {},
   "outputs": [
    {
     "data": {
      "image/png": "[encoded data removed]",
      "text/plain": [
       "<Figure size 432x288 with 1 Axes>"
      ]
     },
     "metadata": {
      "needs_background": "light"
     },
     "output_type": "display_data"
    }
   ],
   "source": [
    "histogram('petal.length')"
   ]
  },
  {
   "cell_type": "markdown",
   "id": "126cad4c",
   "metadata": {},
   "source": [
    "> **Observation**:\n",
    "It can be observed that the Petal Lengths for Setosa are smaller as compared to other two flower types with all the values under 2 cms and this can be a basis for separation. Versicolor Petals are smaller in length against Versicolor, but the data points is very close for a clear separation."
   ]
  },
  {
   "cell_type": "markdown",
   "id": "bb1c6ebc",
   "metadata": {},
   "source": [
    "#### Petal Width"
   ]
  },
  {
   "cell_type": "code",
   "execution_count": 13,
   "id": "061923de",
   "metadata": {
    "scrolled": true
   },
   "outputs": [
    {
     "data": {
      "image/png": "[encoded data removed]",
      "text/plain": [
       "<Figure size 432x288 with 1 Axes>"
      ]
     },
     "metadata": {
      "needs_background": "light"
     },
     "output_type": "display_data"
    }
   ],
   "source": [
    "histogram('petal.width')"
   ]
  },
  {
   "cell_type": "markdown",
   "id": "51f88afd",
   "metadata": {},
   "source": [
    "> **Observation**:\n",
    "Similar to Petal Length, Petal Widths for Setosa are smaller as compared to other two flower types. Petal Widths for Versicolor and Virginica are again very closely related."
   ]
  },
  {
   "cell_type": "markdown",
   "id": "67c18b2d",
   "metadata": {},
   "source": [
    "### Result:\n",
    "> Sepals for all the flowers are very closely related and cannot be clearly separated. Petals on the other hand can distinct Setosa from other two flower categories."
   ]
  },
  {
   "cell_type": "markdown",
   "id": "a1368f4e",
   "metadata": {},
   "source": [
    "### Plotting the Sepals Size"
   ]
  },
  {
   "cell_type": "code",
   "execution_count": 14,
   "id": "63a16786",
   "metadata": {
    "scrolled": true
   },
   "outputs": [
    {
     "data": {
      "image/png": "[encoded data removed]",
      "text/plain": [
       "<Figure size 360x288 with 2 Axes>"
      ]
     },
     "metadata": {
      "needs_background": "light"
     },
     "output_type": "display_data"
    }
   ],
   "source": [
    "scatter(0,1)"
   ]
  },
  {
   "cell_type": "markdown",
   "id": "d8573796",
   "metadata": {},
   "source": [
    "> **Observation**:\n",
    "As observed earlier, Sepals for Setosa are smaller and for Versicolor and Verginica, there's no clear distinction."
   ]
  },
  {
   "cell_type": "markdown",
   "id": "7be1ef62",
   "metadata": {},
   "source": [
    "### Plotting the Petals Size"
   ]
  },
  {
   "cell_type": "code",
   "execution_count": 15,
   "id": "2d92dc6e",
   "metadata": {
    "scrolled": true
   },
   "outputs": [
    {
     "data": {
      "image/png": "[encoded data removed]",
      "text/plain": [
       "<Figure size 360x288 with 2 Axes>"
      ]
     },
     "metadata": {
      "needs_background": "light"
     },
     "output_type": "display_data"
    }
   ],
   "source": [
    "scatter(2,3)"
   ]
  },
  {
   "cell_type": "markdown",
   "id": "b24ab40e",
   "metadata": {},
   "source": [
    "> **Observation**:\n",
    "As observed earlier, Petals for Setosa are smaller and can be easily distinguished from other two flower types. For Versicolor, the Petals are smaller than Virginica and can be separated, with few errors."
   ]
  },
  {
   "cell_type": "markdown",
   "id": "3aa36f46",
   "metadata": {},
   "source": [
    "### Result:  \n",
    ">As the data is not clearly separatable in 2 dimensions, we will **raise the data to higher dimensions** in our Classifiers to build a model that can separate Versicolor from Virginica."
   ]
  },
  {
   "cell_type": "markdown",
   "id": "6b0d36ae",
   "metadata": {},
   "source": [
    "## 5. K-Fold Cross Validation\n",
    "> Checking the cross-validation score for **5 fold** Data for 3 Classifiers:\n",
    "> - Random Forest Classifier\n",
    "> - Support Vector Classifier\n",
    "> - Gradient Boosting Classifier"
   ]
  },
  {
   "cell_type": "code",
   "execution_count": 16,
   "id": "d753d079",
   "metadata": {},
   "outputs": [
    {
     "name": "stdout",
     "output_type": "stream",
     "text": [
      "Cross Validation Score of RandomForestClassifier model \n",
      "scores: [0.9667 0.9667 0.9333 0.9    1.    ] \n",
      "=> 0.95 (+/-0.07)\n",
      "\n",
      "Cross Validation Score of SVC model \n",
      "scores: [0.9667 0.9667 0.9667 0.9333 1.    ] \n",
      "=> 0.97 (+/-0.04)\n",
      "\n",
      "Cross Validation Score of GradientBoostingClassifier model \n",
      "scores: [0.9667 0.9667 0.9    0.9667 1.    ] \n",
      "=> 0.96 (+/-0.07)\n",
      "\n"
     ]
    }
   ],
   "source": [
    "# Baseline Performance on 5-Fold\n",
    "rf = RandomForestClassifier()\n",
    "svc = SVC()\n",
    "gbc = GradientBoostingClassifier()\n",
    "models = [rf, svc, gbc]\n",
    "\n",
    "for model in models:\n",
    "    scores = cross_val_score(model, features1, labels1, cv = 5)\n",
    "    with np.printoptions(precision=4):\n",
    "        print(f\"Cross Validation Score of {type(model).__name__} model \\nscores: {scores} \\n=> {round(np.mean(scores), 2)} (+/-{round(np.std(scores)*2, 2)})\\n\")\n"
   ]
  },
  {
   "cell_type": "markdown",
   "id": "a76244e9",
   "metadata": {},
   "source": [
    "### Result:\n",
    "> All the 3 models performed well with baseline parameters with accuracy over 95%. Further we will tune the parameters for these models to find the best one."
   ]
  },
  {
   "cell_type": "markdown",
   "id": "3b632143",
   "metadata": {},
   "source": [
    "## 6. Building Classifiers with 60% split ratio data\n",
    "> Separating the data into 60-20-20 ratio with 60% Training set, and 20% each for Validation set and Test set."
   ]
  },
  {
   "cell_type": "markdown",
   "id": "c100a0a1",
   "metadata": {},
   "source": [
    "### Helper Functions"
   ]
  },
  {
   "cell_type": "code",
   "execution_count": 17,
   "id": "043703be",
   "metadata": {},
   "outputs": [],
   "source": [
    "def train_val_test_split(split_ratio, input_data):\n",
    "    input_features = input_data['features']\n",
    "    input_labels = input_data['labels']\n",
    "    x_train, x_rem, y_train, y_rem = train_test_split(input_features, input_labels, train_size=split_ratio)\n",
    "    x_val, x_test, y_val, y_test = train_test_split(x_rem, y_rem, test_size=0.5)\n",
    "    return {'training' : {'features': x_train, 'labels': y_train}, \n",
    "            'validation': {'features': x_val, 'labels': y_val},\n",
    "            'test': {'features': x_test, 'labels': y_test}\n",
    "           }\n",
    "        \n",
    "def tune_hyperparameters(model, input_params, training_data):\n",
    "    cv = GridSearchCV(model, input_params, cv=5)\n",
    "    cv.fit(training_data['features'], training_data['labels'])\n",
    "    print(f\"Best Estimator for {type(model).__name__}: \", cv.best_estimator_, \"\\n\")\n",
    "    model_results(cv)\n",
    "    \n",
    "def model_results(results):\n",
    "    print(f\"Best Parameters: {results.best_params_}\\n\")\n",
    "    means = results.cv_results_['mean_test_score']\n",
    "    stds = results.cv_results_['std_test_score']\n",
    "    for mean, std, param in zip(means, stds, results.cv_results_['params']):\n",
    "        print(f\"{round(mean, 3)} (+/- {round(std*2, 3)}) for {param}\")\n",
    "        \n",
    "def model_test_val_performance(model, training_set, check_set):\n",
    "    model.fit(training_set['features'], training_set['labels']) # fitting on training set\n",
    "    label_pred = model.predict(check_set['features']) # predicting on set other than training set\n",
    "    label_true = check_set['labels']\n",
    "    acc = round(accuracy_score(label_true, label_pred), 3)\n",
    "    prc = round(precision_score(label_true, label_pred, average='micro'), 3)\n",
    "    rcl = round(recall_score(label_true, label_pred, average='micro'), 3)\n",
    "    return({'acc': acc, 'prc': prc, 'rcl': rcl})"
   ]
  },
  {
   "cell_type": "markdown",
   "id": "0455d3c4",
   "metadata": {},
   "source": [
    "### Splitting the data"
   ]
  },
  {
   "cell_type": "code",
   "execution_count": 18,
   "id": "cc81ae64",
   "metadata": {},
   "outputs": [],
   "source": [
    "data2 = train_val_test_split(split_ratio = 0.6, input_data = data1)\n",
    "data2_training = data2['training']\n",
    "data2_validation = data2['validation']\n",
    "data2_test = data2['test']"
   ]
  },
  {
   "cell_type": "markdown",
   "id": "264a60b2",
   "metadata": {},
   "source": [
    "### 6 A. Support Vector Classifier"
   ]
  },
  {
   "cell_type": "code",
   "execution_count": 19,
   "id": "12c51dbd",
   "metadata": {},
   "outputs": [
    {
     "name": "stdout",
     "output_type": "stream",
     "text": [
      "Best Estimator for SVC:  SVC(C=1, kernel='linear') \n",
      "\n",
      "Best Parameters: {'C': 1, 'kernel': 'linear'}\n",
      "\n",
      "0.722 (+/- 0.0) for {'C': 0.01, 'kernel': 'linear'}\n",
      "0.911 (+/- 0.181) for {'C': 0.01, 'kernel': 'poly'}\n",
      "0.389 (+/- 0.0) for {'C': 0.01, 'kernel': 'rbf'}\n",
      "0.389 (+/- 0.0) for {'C': 0.01, 'kernel': 'sigmoid'}\n",
      "0.967 (+/- 0.089) for {'C': 0.1, 'kernel': 'linear'}\n",
      "0.967 (+/- 0.054) for {'C': 0.1, 'kernel': 'poly'}\n",
      "0.722 (+/- 0.0) for {'C': 0.1, 'kernel': 'rbf'}\n",
      "0.389 (+/- 0.0) for {'C': 0.1, 'kernel': 'sigmoid'}\n",
      "0.978 (+/- 0.054) for {'C': 1, 'kernel': 'linear'}\n",
      "0.967 (+/- 0.089) for {'C': 1, 'kernel': 'poly'}\n",
      "0.967 (+/- 0.089) for {'C': 1, 'kernel': 'rbf'}\n",
      "0.389 (+/- 0.0) for {'C': 1, 'kernel': 'sigmoid'}\n",
      "0.967 (+/- 0.089) for {'C': 10, 'kernel': 'linear'}\n",
      "0.956 (+/- 0.109) for {'C': 10, 'kernel': 'poly'}\n",
      "0.978 (+/- 0.054) for {'C': 10, 'kernel': 'rbf'}\n",
      "0.389 (+/- 0.0) for {'C': 10, 'kernel': 'sigmoid'}\n",
      "0.956 (+/- 0.109) for {'C': 100, 'kernel': 'linear'}\n",
      "0.944 (+/- 0.141) for {'C': 100, 'kernel': 'poly'}\n",
      "0.967 (+/- 0.089) for {'C': 100, 'kernel': 'rbf'}\n",
      "0.089 (+/- 0.151) for {'C': 100, 'kernel': 'sigmoid'}\n"
     ]
    }
   ],
   "source": [
    "svc_parameters = {\n",
    "        'kernel': ['linear', 'poly', 'rbf', 'sigmoid'],\n",
    "        'C' : [0.01, 0.1, 1, 10, 100]\n",
    "    }\n",
    "\n",
    "tune_hyperparameters(model = SVC(), input_params = svc_parameters, training_data = data2_training)"
   ]
  },
  {
   "cell_type": "markdown",
   "id": "87bcbe1c",
   "metadata": {},
   "source": [
    "#### Building 3 Classifiers with top accuracy\n",
    "These 3 classifiers would be tested for validation set and the best one would be checked against test set."
   ]
  },
  {
   "cell_type": "code",
   "execution_count": 20,
   "id": "02aed240",
   "metadata": {},
   "outputs": [
    {
     "name": "stdout",
     "output_type": "stream",
     "text": [
      "VALIDATION SET\n",
      "C: 1, Kernel: linear -- Accuracy: 1.0, Precision: 1.0, Recall: 1.0\n",
      "C: 10, Kernel: rbf -- Accuracy: 1.0, Precision: 1.0, Recall: 1.0\n",
      "C: 100, Kernel: rbf -- Accuracy: 1.0, Precision: 1.0, Recall: 1.0\n",
      "\n",
      "TEST SET ON BEST MODEL\n",
      "C: 1, Kernel: linear -- Accuracy: 0.933, Precision: 0.933, Recall: 0.933\n"
     ]
    }
   ],
   "source": [
    "svc1 = SVC(C=1, kernel='linear') #Best Estimator\n",
    "svc2 = SVC(C=10, kernel='rbf')\n",
    "svc3 = SVC(C=100, kernel='rbf') \n",
    "\n",
    "print(\"VALIDATION SET\")\n",
    "for svc_model in [svc1, svc2, svc3]:\n",
    "    #performance\n",
    "    prf = model_test_val_performance(model = svc_model, training_set = data2_training, check_set = data2_validation)\n",
    "    print(f\"C: {svc_model.C}, Kernel: {svc_model.kernel} -- Accuracy: {prf['acc']}, Precision: {prf['prc']}, Recall: {prf['rcl']}\")\n",
    "\n",
    "print(\"\\nTEST SET ON BEST MODEL\")\n",
    "prf = model_test_val_performance(model = svc1, training_set = data2_training, check_set = data2_test)\n",
    "print(f\"C: {svc1.C}, Kernel: {svc1.kernel} -- Accuracy: {prf['acc']}, Precision: {prf['prc']}, Recall: {prf['rcl']}\")\n"
   ]
  },
  {
   "cell_type": "markdown",
   "id": "c6798c66",
   "metadata": {},
   "source": [
    "### Observation:\n",
    "> The SupportVectorClassifier did pretty well on both Validation set and Test set with accuracy over 93%."
   ]
  },
  {
   "cell_type": "markdown",
   "id": "7b0d5bc4",
   "metadata": {},
   "source": [
    "### 6 B. Random Forest Classifier"
   ]
  },
  {
   "cell_type": "code",
   "execution_count": 21,
   "id": "9a14223d",
   "metadata": {},
   "outputs": [
    {
     "name": "stdout",
     "output_type": "stream",
     "text": [
      "Best Estimator for RandomForestClassifier:  RandomForestClassifier(max_depth=2, n_estimators=5) \n",
      "\n",
      "Best Parameters: {'max_depth': 2, 'n_estimators': 5}\n",
      "\n",
      "0.956 (+/- 0.083) for {'max_depth': 2, 'n_estimators': 5}\n",
      "0.933 (+/- 0.083) for {'max_depth': 2, 'n_estimators': 10}\n",
      "0.922 (+/- 0.133) for {'max_depth': 2, 'n_estimators': 50}\n",
      "0.944 (+/- 0.099) for {'max_depth': 2, 'n_estimators': 100}\n",
      "0.944 (+/- 0.099) for {'max_depth': 2, 'n_estimators': 250}\n",
      "0.944 (+/- 0.099) for {'max_depth': 4, 'n_estimators': 5}\n",
      "0.944 (+/- 0.099) for {'max_depth': 4, 'n_estimators': 10}\n",
      "0.944 (+/- 0.099) for {'max_depth': 4, 'n_estimators': 50}\n",
      "0.944 (+/- 0.099) for {'max_depth': 4, 'n_estimators': 100}\n",
      "0.944 (+/- 0.099) for {'max_depth': 4, 'n_estimators': 250}\n",
      "0.933 (+/- 0.083) for {'max_depth': 8, 'n_estimators': 5}\n",
      "0.944 (+/- 0.099) for {'max_depth': 8, 'n_estimators': 10}\n",
      "0.956 (+/- 0.083) for {'max_depth': 8, 'n_estimators': 50}\n",
      "0.944 (+/- 0.099) for {'max_depth': 8, 'n_estimators': 100}\n",
      "0.944 (+/- 0.099) for {'max_depth': 8, 'n_estimators': 250}\n",
      "0.933 (+/- 0.13) for {'max_depth': 16, 'n_estimators': 5}\n",
      "0.933 (+/- 0.083) for {'max_depth': 16, 'n_estimators': 10}\n",
      "0.944 (+/- 0.099) for {'max_depth': 16, 'n_estimators': 50}\n",
      "0.944 (+/- 0.099) for {'max_depth': 16, 'n_estimators': 100}\n",
      "0.944 (+/- 0.099) for {'max_depth': 16, 'n_estimators': 250}\n",
      "0.956 (+/- 0.083) for {'max_depth': 32, 'n_estimators': 5}\n",
      "0.944 (+/- 0.099) for {'max_depth': 32, 'n_estimators': 10}\n",
      "0.944 (+/- 0.099) for {'max_depth': 32, 'n_estimators': 50}\n",
      "0.956 (+/- 0.083) for {'max_depth': 32, 'n_estimators': 100}\n",
      "0.944 (+/- 0.099) for {'max_depth': 32, 'n_estimators': 250}\n",
      "0.944 (+/- 0.099) for {'max_depth': None, 'n_estimators': 5}\n",
      "0.922 (+/- 0.089) for {'max_depth': None, 'n_estimators': 10}\n",
      "0.956 (+/- 0.109) for {'max_depth': None, 'n_estimators': 50}\n",
      "0.944 (+/- 0.099) for {'max_depth': None, 'n_estimators': 100}\n",
      "0.944 (+/- 0.099) for {'max_depth': None, 'n_estimators': 250}\n"
     ]
    }
   ],
   "source": [
    "rf_parameters = {\n",
    "    'n_estimators': [5, 10, 50, 100, 250],\n",
    "    'max_depth': [2, 4, 8, 16, 32, None]\n",
    "}\n",
    "\n",
    "tune_hyperparameters(model = RandomForestClassifier(), input_params = rf_parameters, training_data = data2_training)"
   ]
  },
  {
   "cell_type": "markdown",
   "id": "fd9e7c49",
   "metadata": {},
   "source": [
    "#### Building 3 Classifiers with top accuracy\n",
    "These 3 classifiers would be tested for validation set and the best one would be checked against test set."
   ]
  },
  {
   "cell_type": "code",
   "execution_count": 22,
   "id": "f12c7780",
   "metadata": {},
   "outputs": [
    {
     "name": "stdout",
     "output_type": "stream",
     "text": [
      "VALIDATION SET\n",
      "max_depth: 2, n_estimators: 5 -- Accuracy: 0.933, Precision: 0.933, Recall: 0.933\n",
      "max_depth: 8, n_estimators: 50 -- Accuracy: 0.967, Precision: 0.967, Recall: 0.967\n",
      "max_depth: None, n_estimators: 50 -- Accuracy: 0.967, Precision: 0.967, Recall: 0.967\n",
      "\n",
      "TEST SET ON BEST MODEL\n",
      "max_depth: 2, n_estimators: 5 -- Accuracy: 0.967, Precision: 0.967, Recall: 0.967\n"
     ]
    }
   ],
   "source": [
    "rf1 = RandomForestClassifier(max_depth=2, n_estimators=5) # Best Estimator\n",
    "rf2 = RandomForestClassifier(max_depth=8, n_estimators=50)\n",
    "rf3 = RandomForestClassifier(max_depth=None, n_estimators=50) \n",
    "\n",
    "print(\"VALIDATION SET\")\n",
    "for rf_model in [rf1, rf2, rf3]:\n",
    "    #performance\n",
    "    prf = model_test_val_performance(model = rf_model, training_set = data2_training, check_set = data2_validation)\n",
    "    print(f\"max_depth: {rf_model.max_depth}, n_estimators: {rf_model.n_estimators} -- Accuracy: {prf['acc']}, Precision: {prf['prc']}, Recall: {prf['rcl']}\")\n",
    "\n",
    "print(\"\\nTEST SET ON BEST MODEL\")\n",
    "prf = model_test_val_performance(model = rf1, training_set = data2_training, check_set = data2_test)\n",
    "print(f\"max_depth: {rf1.max_depth}, n_estimators: {rf1.n_estimators} -- Accuracy: {prf['acc']}, Precision: {prf['prc']}, Recall: {prf['rcl']}\")"
   ]
  },
  {
   "cell_type": "markdown",
   "id": "e1250120",
   "metadata": {},
   "source": [
    "### Observation:\n",
    "> The RandomForestClassifier did pretty well on both Validation set and Test set with accuracy over 93%."
   ]
  },
  {
   "cell_type": "markdown",
   "id": "a6ab67ec",
   "metadata": {},
   "source": [
    "### 6 C. Gradient Boosting Classifier"
   ]
  },
  {
   "cell_type": "code",
   "execution_count": 23,
   "id": "23543d70",
   "metadata": {},
   "outputs": [
    {
     "name": "stdout",
     "output_type": "stream",
     "text": [
      "Best Estimator for GradientBoostingClassifier:  GradientBoostingClassifier(learning_rate=0.01, max_depth=1, n_estimators=250) \n",
      "\n",
      "Best Parameters: {'learning_rate': 0.01, 'max_depth': 1, 'n_estimators': 250}\n",
      "\n",
      "0.389 (+/- 0.0) for {'learning_rate': 0.01, 'max_depth': 1, 'n_estimators': 5}\n",
      "0.922 (+/- 0.133) for {'learning_rate': 0.01, 'max_depth': 1, 'n_estimators': 50}\n",
      "0.967 (+/- 0.089) for {'learning_rate': 0.01, 'max_depth': 1, 'n_estimators': 250}\n",
      "0.956 (+/- 0.083) for {'learning_rate': 0.01, 'max_depth': 1, 'n_estimators': 500}\n",
      "0.389 (+/- 0.0) for {'learning_rate': 0.01, 'max_depth': 3, 'n_estimators': 5}\n",
      "0.956 (+/- 0.109) for {'learning_rate': 0.01, 'max_depth': 3, 'n_estimators': 50}\n",
      "0.944 (+/- 0.141) for {'learning_rate': 0.01, 'max_depth': 3, 'n_estimators': 250}\n",
      "0.944 (+/- 0.099) for {'learning_rate': 0.01, 'max_depth': 3, 'n_estimators': 500}\n",
      "0.389 (+/- 0.0) for {'learning_rate': 0.01, 'max_depth': 5, 'n_estimators': 5}\n",
      "0.956 (+/- 0.109) for {'learning_rate': 0.01, 'max_depth': 5, 'n_estimators': 50}\n",
      "0.956 (+/- 0.109) for {'learning_rate': 0.01, 'max_depth': 5, 'n_estimators': 250}\n",
      "0.956 (+/- 0.109) for {'learning_rate': 0.01, 'max_depth': 5, 'n_estimators': 500}\n",
      "0.389 (+/- 0.0) for {'learning_rate': 0.01, 'max_depth': 7, 'n_estimators': 5}\n",
      "0.956 (+/- 0.109) for {'learning_rate': 0.01, 'max_depth': 7, 'n_estimators': 50}\n",
      "0.956 (+/- 0.109) for {'learning_rate': 0.01, 'max_depth': 7, 'n_estimators': 250}\n",
      "0.956 (+/- 0.109) for {'learning_rate': 0.01, 'max_depth': 7, 'n_estimators': 500}\n",
      "0.389 (+/- 0.0) for {'learning_rate': 0.01, 'max_depth': 9, 'n_estimators': 5}\n",
      "0.956 (+/- 0.109) for {'learning_rate': 0.01, 'max_depth': 9, 'n_estimators': 50}\n",
      "0.956 (+/- 0.109) for {'learning_rate': 0.01, 'max_depth': 9, 'n_estimators': 250}\n",
      "0.956 (+/- 0.109) for {'learning_rate': 0.01, 'max_depth': 9, 'n_estimators': 500}\n",
      "0.922 (+/- 0.133) for {'learning_rate': 0.1, 'max_depth': 1, 'n_estimators': 5}\n",
      "0.956 (+/- 0.083) for {'learning_rate': 0.1, 'max_depth': 1, 'n_estimators': 50}\n",
      "0.944 (+/- 0.099) for {'learning_rate': 0.1, 'max_depth': 1, 'n_estimators': 250}\n",
      "0.933 (+/- 0.083) for {'learning_rate': 0.1, 'max_depth': 1, 'n_estimators': 500}\n",
      "0.944 (+/- 0.141) for {'learning_rate': 0.1, 'max_depth': 3, 'n_estimators': 5}\n",
      "0.944 (+/- 0.099) for {'learning_rate': 0.1, 'max_depth': 3, 'n_estimators': 50}\n",
      "0.933 (+/- 0.13) for {'learning_rate': 0.1, 'max_depth': 3, 'n_estimators': 250}\n",
      "0.933 (+/- 0.13) for {'learning_rate': 0.1, 'max_depth': 3, 'n_estimators': 500}\n",
      "0.956 (+/- 0.109) for {'learning_rate': 0.1, 'max_depth': 5, 'n_estimators': 5}\n",
      "0.944 (+/- 0.141) for {'learning_rate': 0.1, 'max_depth': 5, 'n_estimators': 50}\n",
      "0.944 (+/- 0.141) for {'learning_rate': 0.1, 'max_depth': 5, 'n_estimators': 250}\n",
      "0.944 (+/- 0.141) for {'learning_rate': 0.1, 'max_depth': 5, 'n_estimators': 500}\n",
      "0.956 (+/- 0.109) for {'learning_rate': 0.1, 'max_depth': 7, 'n_estimators': 5}\n",
      "0.944 (+/- 0.141) for {'learning_rate': 0.1, 'max_depth': 7, 'n_estimators': 50}\n",
      "0.956 (+/- 0.109) for {'learning_rate': 0.1, 'max_depth': 7, 'n_estimators': 250}\n",
      "0.956 (+/- 0.109) for {'learning_rate': 0.1, 'max_depth': 7, 'n_estimators': 500}\n",
      "0.944 (+/- 0.141) for {'learning_rate': 0.1, 'max_depth': 9, 'n_estimators': 5}\n",
      "0.944 (+/- 0.141) for {'learning_rate': 0.1, 'max_depth': 9, 'n_estimators': 50}\n",
      "0.944 (+/- 0.141) for {'learning_rate': 0.1, 'max_depth': 9, 'n_estimators': 250}\n",
      "0.956 (+/- 0.109) for {'learning_rate': 0.1, 'max_depth': 9, 'n_estimators': 500}\n",
      "0.944 (+/- 0.122) for {'learning_rate': 1, 'max_depth': 1, 'n_estimators': 5}\n",
      "0.922 (+/- 0.133) for {'learning_rate': 1, 'max_depth': 1, 'n_estimators': 50}\n",
      "0.933 (+/- 0.13) for {'learning_rate': 1, 'max_depth': 1, 'n_estimators': 250}\n",
      "0.933 (+/- 0.13) for {'learning_rate': 1, 'max_depth': 1, 'n_estimators': 500}\n",
      "0.944 (+/- 0.099) for {'learning_rate': 1, 'max_depth': 3, 'n_estimators': 5}\n",
      "0.933 (+/- 0.13) for {'learning_rate': 1, 'max_depth': 3, 'n_estimators': 50}\n",
      "0.933 (+/- 0.13) for {'learning_rate': 1, 'max_depth': 3, 'n_estimators': 250}\n",
      "0.933 (+/- 0.13) for {'learning_rate': 1, 'max_depth': 3, 'n_estimators': 500}\n",
      "0.944 (+/- 0.141) for {'learning_rate': 1, 'max_depth': 5, 'n_estimators': 5}\n",
      "0.956 (+/- 0.109) for {'learning_rate': 1, 'max_depth': 5, 'n_estimators': 50}\n",
      "0.944 (+/- 0.141) for {'learning_rate': 1, 'max_depth': 5, 'n_estimators': 250}\n",
      "0.944 (+/- 0.141) for {'learning_rate': 1, 'max_depth': 5, 'n_estimators': 500}\n",
      "0.944 (+/- 0.141) for {'learning_rate': 1, 'max_depth': 7, 'n_estimators': 5}\n",
      "0.944 (+/- 0.141) for {'learning_rate': 1, 'max_depth': 7, 'n_estimators': 50}\n",
      "0.956 (+/- 0.109) for {'learning_rate': 1, 'max_depth': 7, 'n_estimators': 250}\n",
      "0.956 (+/- 0.109) for {'learning_rate': 1, 'max_depth': 7, 'n_estimators': 500}\n",
      "0.956 (+/- 0.109) for {'learning_rate': 1, 'max_depth': 9, 'n_estimators': 5}\n",
      "0.956 (+/- 0.109) for {'learning_rate': 1, 'max_depth': 9, 'n_estimators': 50}\n",
      "0.956 (+/- 0.109) for {'learning_rate': 1, 'max_depth': 9, 'n_estimators': 250}\n",
      "0.944 (+/- 0.141) for {'learning_rate': 1, 'max_depth': 9, 'n_estimators': 500}\n",
      "0.467 (+/- 0.48) for {'learning_rate': 10, 'max_depth': 1, 'n_estimators': 5}\n",
      "0.478 (+/- 0.49) for {'learning_rate': 10, 'max_depth': 1, 'n_estimators': 50}\n",
      "0.478 (+/- 0.49) for {'learning_rate': 10, 'max_depth': 1, 'n_estimators': 250}\n",
      "0.478 (+/- 0.49) for {'learning_rate': 10, 'max_depth': 1, 'n_estimators': 500}\n",
      "0.944 (+/- 0.099) for {'learning_rate': 10, 'max_depth': 3, 'n_estimators': 5}\n",
      "0.944 (+/- 0.099) for {'learning_rate': 10, 'max_depth': 3, 'n_estimators': 50}\n",
      "0.911 (+/- 0.113) for {'learning_rate': 10, 'max_depth': 3, 'n_estimators': 250}\n",
      "0.911 (+/- 0.113) for {'learning_rate': 10, 'max_depth': 3, 'n_estimators': 500}\n",
      "0.944 (+/- 0.141) for {'learning_rate': 10, 'max_depth': 5, 'n_estimators': 5}\n",
      "0.956 (+/- 0.109) for {'learning_rate': 10, 'max_depth': 5, 'n_estimators': 50}\n",
      "0.956 (+/- 0.109) for {'learning_rate': 10, 'max_depth': 5, 'n_estimators': 250}\n",
      "0.956 (+/- 0.109) for {'learning_rate': 10, 'max_depth': 5, 'n_estimators': 500}\n",
      "0.956 (+/- 0.109) for {'learning_rate': 10, 'max_depth': 7, 'n_estimators': 5}\n",
      "0.944 (+/- 0.141) for {'learning_rate': 10, 'max_depth': 7, 'n_estimators': 50}\n",
      "0.956 (+/- 0.109) for {'learning_rate': 10, 'max_depth': 7, 'n_estimators': 250}\n",
      "0.944 (+/- 0.141) for {'learning_rate': 10, 'max_depth': 7, 'n_estimators': 500}\n",
      "0.956 (+/- 0.109) for {'learning_rate': 10, 'max_depth': 9, 'n_estimators': 5}\n",
      "0.956 (+/- 0.109) for {'learning_rate': 10, 'max_depth': 9, 'n_estimators': 50}\n",
      "0.956 (+/- 0.109) for {'learning_rate': 10, 'max_depth': 9, 'n_estimators': 250}\n",
      "0.956 (+/- 0.109) for {'learning_rate': 10, 'max_depth': 9, 'n_estimators': 500}\n",
      "0.478 (+/- 0.459) for {'learning_rate': 100, 'max_depth': 1, 'n_estimators': 5}\n",
      "0.478 (+/- 0.459) for {'learning_rate': 100, 'max_depth': 1, 'n_estimators': 50}\n",
      "0.478 (+/- 0.459) for {'learning_rate': 100, 'max_depth': 1, 'n_estimators': 250}\n",
      "0.478 (+/- 0.459) for {'learning_rate': 100, 'max_depth': 1, 'n_estimators': 500}\n",
      "0.956 (+/- 0.109) for {'learning_rate': 100, 'max_depth': 3, 'n_estimators': 5}\n",
      "0.944 (+/- 0.141) for {'learning_rate': 100, 'max_depth': 3, 'n_estimators': 50}\n",
      "0.944 (+/- 0.141) for {'learning_rate': 100, 'max_depth': 3, 'n_estimators': 250}\n",
      "0.944 (+/- 0.141) for {'learning_rate': 100, 'max_depth': 3, 'n_estimators': 500}\n",
      "0.956 (+/- 0.109) for {'learning_rate': 100, 'max_depth': 5, 'n_estimators': 5}\n",
      "0.956 (+/- 0.109) for {'learning_rate': 100, 'max_depth': 5, 'n_estimators': 50}\n",
      "0.944 (+/- 0.141) for {'learning_rate': 100, 'max_depth': 5, 'n_estimators': 250}\n",
      "0.944 (+/- 0.141) for {'learning_rate': 100, 'max_depth': 5, 'n_estimators': 500}\n",
      "0.956 (+/- 0.109) for {'learning_rate': 100, 'max_depth': 7, 'n_estimators': 5}\n",
      "0.944 (+/- 0.141) for {'learning_rate': 100, 'max_depth': 7, 'n_estimators': 50}\n",
      "0.944 (+/- 0.141) for {'learning_rate': 100, 'max_depth': 7, 'n_estimators': 250}\n",
      "0.956 (+/- 0.109) for {'learning_rate': 100, 'max_depth': 7, 'n_estimators': 500}\n",
      "0.944 (+/- 0.141) for {'learning_rate': 100, 'max_depth': 9, 'n_estimators': 5}\n",
      "0.944 (+/- 0.141) for {'learning_rate': 100, 'max_depth': 9, 'n_estimators': 50}\n",
      "0.944 (+/- 0.141) for {'learning_rate': 100, 'max_depth': 9, 'n_estimators': 250}\n",
      "0.956 (+/- 0.109) for {'learning_rate': 100, 'max_depth': 9, 'n_estimators': 500}\n"
     ]
    }
   ],
   "source": [
    "gb_parameters = {\n",
    "    'n_estimators': [5, 50, 250, 500],\n",
    "    'max_depth': [1, 3, 5, 7, 9],\n",
    "    'learning_rate': [0.01, 0.1, 1, 10, 100]\n",
    "}\n",
    "\n",
    "tune_hyperparameters(model = GradientBoostingClassifier(), input_params = gb_parameters, training_data = data2_training)"
   ]
  },
  {
   "cell_type": "markdown",
   "id": "aeebd4c6",
   "metadata": {},
   "source": [
    "#### Building 3 Classifiers with top accuracy\n",
    "These 3 classifiers would be tested for validation set and the best one would be checked against test set."
   ]
  },
  {
   "cell_type": "code",
   "execution_count": 24,
   "id": "1d014fb2",
   "metadata": {},
   "outputs": [
    {
     "name": "stdout",
     "output_type": "stream",
     "text": [
      "VALIDATION SET\n",
      "learning_rate: 0.01, max_depth: 1, n_estimators: 250 -- Accuracy: 0.967, Precision: 0.967, Recall: 0.967\n",
      "learning_rate: 1, max_depth: 7, n_estimators: 250 -- Accuracy: 0.967, Precision: 0.967, Recall: 0.967\n",
      "learning_rate: 100, max_depth: 9, n_estimators: 500 -- Accuracy: 0.933, Precision: 0.933, Recall: 0.933\n",
      "\n",
      "TEST SET ON BEST MODEL\n",
      "learning_rate: 0.01, max_depth: 1, n_estimators: 250 -- Accuracy: 0.933, Precision: 0.933, Recall: 0.933\n"
     ]
    }
   ],
   "source": [
    "gb1 = GradientBoostingClassifier(learning_rate=0.01, max_depth=1, n_estimators=250) # Best Estimator\n",
    "gb2 = GradientBoostingClassifier(learning_rate=1, max_depth=7, n_estimators=250) \n",
    "gb3 = GradientBoostingClassifier(learning_rate=100, max_depth=9, n_estimators=500)  \n",
    "\n",
    "print(\"VALIDATION SET\")\n",
    "for gb_model in [gb1, gb2, gb3]:\n",
    "    #performance\n",
    "    prf = model_test_val_performance(model = gb_model, training_set = data2_training, check_set = data2_validation)\n",
    "    print(f\"learning_rate: {gb_model.learning_rate}, max_depth: {gb_model.max_depth}, n_estimators: {gb_model.n_estimators} -- Accuracy: {prf['acc']}, Precision: {prf['prc']}, Recall: {prf['rcl']}\")\n",
    "\n",
    "print(\"\\nTEST SET ON BEST MODEL\")\n",
    "prf = model_test_val_performance(model = gb1, training_set = data2_training, check_set = data2_test)\n",
    "print(f\"learning_rate: {gb1.learning_rate}, max_depth: {gb1.max_depth}, n_estimators: {gb1.n_estimators} -- Accuracy: {prf['acc']}, Precision: {prf['prc']}, Recall: {prf['rcl']}\")"
   ]
  },
  {
   "cell_type": "markdown",
   "id": "c058dfcb",
   "metadata": {},
   "source": [
    "### Observation:\n",
    "> The GradientBoostingClassifier did pretty well on both Validation set and Test set with accuracy over 93%."
   ]
  },
  {
   "cell_type": "markdown",
   "id": "e5384c94",
   "metadata": {},
   "source": [
    "### 6 D. Testing the best hyperparametrized classifiers on\n",
    "- Accuracy\n",
    "- Precision\n",
    "- Recall\n",
    "- Latency"
   ]
  },
  {
   "cell_type": "code",
   "execution_count": 26,
   "id": "017bd912",
   "metadata": {},
   "outputs": [
    {
     "name": "stdout",
     "output_type": "stream",
     "text": [
      "SVC -- Accuracy: 1.0 / Precision: 1.0 / Recall: 1.0 / Latency: 3.9ms\n",
      "RandomForestClassifier -- Accuracy: 0.967 / Precision: 0.967 / Recall: 0.967 / Latency: 3.6ms\n",
      "GradientBoostingClassifier -- Accuracy: 0.967 / Precision: 0.967 / Recall: 0.967 / Latency: 2.0ms\n"
     ]
    }
   ],
   "source": [
    "for mdl in [svc1, rf1, gb1]:\n",
    "    val_features = data2_validation['features']\n",
    "    start = time()\n",
    "    prediction = mdl.predict(val_features)\n",
    "    end = time()\n",
    "    val_label_true = data2_validation['labels']\n",
    "    acc = round(accuracy_score(val_label_true, prediction), 3)\n",
    "    prc = round(precision_score(val_label_true, prediction, average='micro'), 3)\n",
    "    rcl = round(recall_score(val_label_true, prediction, average='micro'), 3)\n",
    "    print('{} -- Accuracy: {} / Precision: {} / Recall: {} / Latency: {}ms'.format(type(mdl).__name__,\n",
    "                                                                                   acc,\n",
    "                                                                                   prc,\n",
    "                                                                                   rcl,\n",
    "                                                                                   round((end - start)*1000, 1)))"
   ]
  },
  {
   "cell_type": "markdown",
   "id": "e9b77272",
   "metadata": {},
   "source": [
    "### Result: \n",
    "> The best classifier with best performance is : **SUPPORT VECTOR CLASSIFIER**"
   ]
  },
  {
   "cell_type": "markdown",
   "id": "220c301e",
   "metadata": {},
   "source": [
    "## 7. Building Classifiers with 80% split ratio data\n",
    "> Separating the data into 80-10-10 ratio with 80% Training set, and 10% each for Validation set and Test set."
   ]
  },
  {
   "cell_type": "markdown",
   "id": "9a267f69",
   "metadata": {},
   "source": [
    "### Splitting the data"
   ]
  },
  {
   "cell_type": "code",
   "execution_count": 27,
   "id": "552b46b1",
   "metadata": {},
   "outputs": [],
   "source": [
    "data3 = train_val_test_split(split_ratio = 0.8, input_data = data1)\n",
    "data3_training = data3['training']\n",
    "data3_validation = data3['validation']\n",
    "data3_test = data3['test']"
   ]
  },
  {
   "cell_type": "markdown",
   "id": "e08dae07",
   "metadata": {},
   "source": [
    "### 7 A. Support Vector Classifier"
   ]
  },
  {
   "cell_type": "code",
   "execution_count": 28,
   "id": "8d2671ea",
   "metadata": {},
   "outputs": [
    {
     "name": "stdout",
     "output_type": "stream",
     "text": [
      "Best Estimator for SVC:  SVC(C=1, kernel='linear') \n",
      "\n",
      "Best Parameters: {'C': 1, 'kernel': 'linear'}\n",
      "\n",
      "0.883 (+/- 0.143) for {'C': 0.01, 'kernel': 'linear'}\n",
      "0.892 (+/- 0.041) for {'C': 0.01, 'kernel': 'poly'}\n",
      "0.367 (+/- 0.033) for {'C': 0.01, 'kernel': 'rbf'}\n",
      "0.367 (+/- 0.033) for {'C': 0.01, 'kernel': 'sigmoid'}\n",
      "0.967 (+/- 0.033) for {'C': 0.1, 'kernel': 'linear'}\n",
      "0.95 (+/- 0.097) for {'C': 0.1, 'kernel': 'poly'}\n",
      "0.833 (+/- 0.118) for {'C': 0.1, 'kernel': 'rbf'}\n",
      "0.367 (+/- 0.033) for {'C': 0.1, 'kernel': 'sigmoid'}\n",
      "0.992 (+/- 0.033) for {'C': 1, 'kernel': 'linear'}\n",
      "0.958 (+/- 0.053) for {'C': 1, 'kernel': 'poly'}\n",
      "0.967 (+/- 0.033) for {'C': 1, 'kernel': 'rbf'}\n",
      "0.367 (+/- 0.033) for {'C': 1, 'kernel': 'sigmoid'}\n",
      "0.958 (+/- 0.053) for {'C': 10, 'kernel': 'linear'}\n",
      "0.942 (+/- 0.085) for {'C': 10, 'kernel': 'poly'}\n",
      "0.983 (+/- 0.041) for {'C': 10, 'kernel': 'rbf'}\n",
      "0.258 (+/- 0.082) for {'C': 10, 'kernel': 'sigmoid'}\n",
      "0.95 (+/- 0.097) for {'C': 100, 'kernel': 'linear'}\n",
      "0.958 (+/- 0.075) for {'C': 100, 'kernel': 'poly'}\n",
      "0.942 (+/- 0.067) for {'C': 100, 'kernel': 'rbf'}\n",
      "0.083 (+/- 0.158) for {'C': 100, 'kernel': 'sigmoid'}\n"
     ]
    }
   ],
   "source": [
    "svc_parameters = {\n",
    "        'kernel': ['linear', 'poly', 'rbf', 'sigmoid'],\n",
    "        'C' : [0.01, 0.1, 1, 10, 100]\n",
    "    }\n",
    "\n",
    "tune_hyperparameters(model = SVC(), input_params = svc_parameters, training_data = data3_training)"
   ]
  },
  {
   "cell_type": "markdown",
   "id": "fdef7448",
   "metadata": {},
   "source": [
    "#### Building 3 Classifiers with top accuracy\n",
    "These 3 classifiers would be tested for validation set and the best one would be checked against test set."
   ]
  },
  {
   "cell_type": "code",
   "execution_count": 29,
   "id": "68c39010",
   "metadata": {},
   "outputs": [
    {
     "name": "stdout",
     "output_type": "stream",
     "text": [
      "VALIDATION SET\n",
      "C: 1, Kernel: linear -- Accuracy: 1.0, Precision: 1.0, Recall: 1.0\n",
      "C: 0.1, Kernel: linear -- Accuracy: 1.0, Precision: 1.0, Recall: 1.0\n",
      "C: 1, Kernel: rbf -- Accuracy: 1.0, Precision: 1.0, Recall: 1.0\n",
      "\n",
      "TEST SET ON BEST MODEL\n",
      "C: 1, Kernel: linear -- Accuracy: 0.933, Precision: 0.933, Recall: 0.933\n"
     ]
    }
   ],
   "source": [
    "svc1 = SVC(C=1, kernel='linear') # Best Estimator\n",
    "svc2 = SVC(C=0.1, kernel='linear')\n",
    "svc3 = SVC(C=1, kernel='rbf') \n",
    "\n",
    "print(\"VALIDATION SET\")\n",
    "for svc_model in [svc1, svc2, svc3]:\n",
    "    #performance\n",
    "    prf = model_test_val_performance(model = svc_model, training_set = data3_training, check_set = data3_validation)\n",
    "    print(f\"C: {svc_model.C}, Kernel: {svc_model.kernel} -- Accuracy: {prf['acc']}, Precision: {prf['prc']}, Recall: {prf['rcl']}\")\n",
    "\n",
    "print(\"\\nTEST SET ON BEST MODEL\")\n",
    "prf = model_test_val_performance(model = svc1, training_set = data3_training, check_set = data3_test)\n",
    "print(f\"C: {svc1.C}, Kernel: {svc1.kernel} -- Accuracy: {prf['acc']}, Precision: {prf['prc']}, Recall: {prf['rcl']}\")"
   ]
  },
  {
   "cell_type": "markdown",
   "id": "b83f213d",
   "metadata": {},
   "source": [
    "### Observation:\n",
    "> The SupportVectorClassifier did pretty well on both Validation set and Test set with accuracy over 93%."
   ]
  },
  {
   "cell_type": "markdown",
   "id": "7cf081fb",
   "metadata": {},
   "source": [
    "### 7 B. Random Forest Classifier"
   ]
  },
  {
   "cell_type": "code",
   "execution_count": 30,
   "id": "2557a590",
   "metadata": {},
   "outputs": [
    {
     "name": "stdout",
     "output_type": "stream",
     "text": [
      "Best Estimator for RandomForestClassifier:  RandomForestClassifier(max_depth=4, n_estimators=5) \n",
      "\n",
      "Best Parameters: {'max_depth': 4, 'n_estimators': 5}\n",
      "\n",
      "0.942 (+/- 0.041) for {'max_depth': 2, 'n_estimators': 5}\n",
      "0.942 (+/- 0.041) for {'max_depth': 2, 'n_estimators': 10}\n",
      "0.95 (+/- 0.062) for {'max_depth': 2, 'n_estimators': 50}\n",
      "0.95 (+/- 0.033) for {'max_depth': 2, 'n_estimators': 100}\n",
      "0.95 (+/- 0.033) for {'max_depth': 2, 'n_estimators': 250}\n",
      "0.967 (+/- 0.033) for {'max_depth': 4, 'n_estimators': 5}\n",
      "0.95 (+/- 0.033) for {'max_depth': 4, 'n_estimators': 10}\n",
      "0.95 (+/- 0.033) for {'max_depth': 4, 'n_estimators': 50}\n",
      "0.958 (+/- 0.0) for {'max_depth': 4, 'n_estimators': 100}\n",
      "0.958 (+/- 0.0) for {'max_depth': 4, 'n_estimators': 250}\n",
      "0.933 (+/- 0.067) for {'max_depth': 8, 'n_estimators': 5}\n",
      "0.95 (+/- 0.033) for {'max_depth': 8, 'n_estimators': 10}\n",
      "0.95 (+/- 0.033) for {'max_depth': 8, 'n_estimators': 50}\n",
      "0.95 (+/- 0.033) for {'max_depth': 8, 'n_estimators': 100}\n",
      "0.958 (+/- 0.0) for {'max_depth': 8, 'n_estimators': 250}\n",
      "0.95 (+/- 0.033) for {'max_depth': 16, 'n_estimators': 5}\n",
      "0.958 (+/- 0.053) for {'max_depth': 16, 'n_estimators': 10}\n",
      "0.95 (+/- 0.033) for {'max_depth': 16, 'n_estimators': 50}\n",
      "0.958 (+/- 0.0) for {'max_depth': 16, 'n_estimators': 100}\n",
      "0.95 (+/- 0.033) for {'max_depth': 16, 'n_estimators': 250}\n",
      "0.967 (+/- 0.033) for {'max_depth': 32, 'n_estimators': 5}\n",
      "0.942 (+/- 0.041) for {'max_depth': 32, 'n_estimators': 10}\n",
      "0.95 (+/- 0.033) for {'max_depth': 32, 'n_estimators': 50}\n",
      "0.95 (+/- 0.033) for {'max_depth': 32, 'n_estimators': 100}\n",
      "0.958 (+/- 0.0) for {'max_depth': 32, 'n_estimators': 250}\n",
      "0.933 (+/- 0.041) for {'max_depth': None, 'n_estimators': 5}\n",
      "0.958 (+/- 0.0) for {'max_depth': None, 'n_estimators': 10}\n",
      "0.95 (+/- 0.033) for {'max_depth': None, 'n_estimators': 50}\n",
      "0.95 (+/- 0.033) for {'max_depth': None, 'n_estimators': 100}\n",
      "0.942 (+/- 0.041) for {'max_depth': None, 'n_estimators': 250}\n"
     ]
    }
   ],
   "source": [
    "rf_parameters = {\n",
    "    'n_estimators': [5, 10, 50, 100, 250],\n",
    "    'max_depth': [2, 4, 8, 16, 32, None]\n",
    "}\n",
    "\n",
    "tune_hyperparameters(model = RandomForestClassifier(), input_params = rf_parameters, training_data = data3_training)"
   ]
  },
  {
   "cell_type": "markdown",
   "id": "7581fb19",
   "metadata": {},
   "source": [
    "#### Building 3 Classifiers with top accuracy\n",
    "These 3 classifiers would be tested for validation set and the best one would be checked against test set."
   ]
  },
  {
   "cell_type": "code",
   "execution_count": 31,
   "id": "af4443f1",
   "metadata": {},
   "outputs": [
    {
     "name": "stdout",
     "output_type": "stream",
     "text": [
      "VALIDATION SET\n",
      "max_depth: 4, n_estimators: 5 -- Accuracy: 0.867, Precision: 0.867, Recall: 0.867\n",
      "max_depth: 32, n_estimators: 5 -- Accuracy: 1.0, Precision: 1.0, Recall: 1.0\n",
      "max_depth: None, n_estimators: 10 -- Accuracy: 1.0, Precision: 1.0, Recall: 1.0\n",
      "\n",
      "TEST SET ON BEST MODEL\n",
      "max_depth: 4, n_estimators: 5 -- Accuracy: 0.933, Precision: 0.933, Recall: 0.933\n"
     ]
    }
   ],
   "source": [
    "rf1 = RandomForestClassifier(max_depth=4, n_estimators=5) # Best Estimator\n",
    "rf2 = RandomForestClassifier(max_depth=32, n_estimators=5)\n",
    "rf3 = RandomForestClassifier(max_depth=None, n_estimators=10) \n",
    "\n",
    "print(\"VALIDATION SET\")\n",
    "for rf_model in [rf1, rf2, rf3]:\n",
    "    #performance\n",
    "    prf = model_test_val_performance(model = rf_model, training_set = data3_training, check_set = data3_validation)\n",
    "    print(f\"max_depth: {rf_model.max_depth}, n_estimators: {rf_model.n_estimators} -- Accuracy: {prf['acc']}, Precision: {prf['prc']}, Recall: {prf['rcl']}\")\n",
    "\n",
    "print(\"\\nTEST SET ON BEST MODEL\")\n",
    "prf = model_test_val_performance(model = rf1, training_set = data3_training, check_set = data3_test)\n",
    "print(f\"max_depth: {rf1.max_depth}, n_estimators: {rf1.n_estimators} -- Accuracy: {prf['acc']}, Precision: {prf['prc']}, Recall: {prf['rcl']}\")"
   ]
  },
  {
   "cell_type": "markdown",
   "id": "c5f7ebe1",
   "metadata": {},
   "source": [
    "### Observation:\n",
    "> The RandomForestClassifier did pretty well on both Test set with accuracy over 93%. However, accuracy on validation set is not that great."
   ]
  },
  {
   "cell_type": "markdown",
   "id": "bca982a3",
   "metadata": {},
   "source": [
    "### 7 C. Gradient Boosting Classifier"
   ]
  },
  {
   "cell_type": "code",
   "execution_count": 32,
   "id": "1738da86",
   "metadata": {},
   "outputs": [
    {
     "name": "stdout",
     "output_type": "stream",
     "text": [
      "Best Estimator for GradientBoostingClassifier:  GradientBoostingClassifier(learning_rate=1, n_estimators=5) \n",
      "\n",
      "Best Parameters: {'learning_rate': 1, 'max_depth': 3, 'n_estimators': 5}\n",
      "\n",
      "0.483 (+/- 0.301) for {'learning_rate': 0.01, 'max_depth': 1, 'n_estimators': 5}\n",
      "0.95 (+/- 0.033) for {'learning_rate': 0.01, 'max_depth': 1, 'n_estimators': 50}\n",
      "0.95 (+/- 0.033) for {'learning_rate': 0.01, 'max_depth': 1, 'n_estimators': 250}\n",
      "0.942 (+/- 0.041) for {'learning_rate': 0.01, 'max_depth': 1, 'n_estimators': 500}\n",
      "0.775 (+/- 0.496) for {'learning_rate': 0.01, 'max_depth': 3, 'n_estimators': 5}\n",
      "0.958 (+/- 0.0) for {'learning_rate': 0.01, 'max_depth': 3, 'n_estimators': 50}\n",
      "0.942 (+/- 0.041) for {'learning_rate': 0.01, 'max_depth': 3, 'n_estimators': 250}\n",
      "0.95 (+/- 0.033) for {'learning_rate': 0.01, 'max_depth': 3, 'n_estimators': 500}\n",
      "0.825 (+/- 0.493) for {'learning_rate': 0.01, 'max_depth': 5, 'n_estimators': 5}\n",
      "0.942 (+/- 0.041) for {'learning_rate': 0.01, 'max_depth': 5, 'n_estimators': 50}\n",
      "0.95 (+/- 0.033) for {'learning_rate': 0.01, 'max_depth': 5, 'n_estimators': 250}\n",
      "0.942 (+/- 0.041) for {'learning_rate': 0.01, 'max_depth': 5, 'n_estimators': 500}\n",
      "0.825 (+/- 0.493) for {'learning_rate': 0.01, 'max_depth': 7, 'n_estimators': 5}\n",
      "0.95 (+/- 0.033) for {'learning_rate': 0.01, 'max_depth': 7, 'n_estimators': 50}\n",
      "0.95 (+/- 0.033) for {'learning_rate': 0.01, 'max_depth': 7, 'n_estimators': 250}\n",
      "0.95 (+/- 0.033) for {'learning_rate': 0.01, 'max_depth': 7, 'n_estimators': 500}\n",
      "0.825 (+/- 0.493) for {'learning_rate': 0.01, 'max_depth': 9, 'n_estimators': 5}\n",
      "0.95 (+/- 0.033) for {'learning_rate': 0.01, 'max_depth': 9, 'n_estimators': 50}\n",
      "0.942 (+/- 0.041) for {'learning_rate': 0.01, 'max_depth': 9, 'n_estimators': 250}\n",
      "0.95 (+/- 0.033) for {'learning_rate': 0.01, 'max_depth': 9, 'n_estimators': 500}\n",
      "0.95 (+/- 0.033) for {'learning_rate': 0.1, 'max_depth': 1, 'n_estimators': 5}\n",
      "0.942 (+/- 0.041) for {'learning_rate': 0.1, 'max_depth': 1, 'n_estimators': 50}\n",
      "0.933 (+/- 0.041) for {'learning_rate': 0.1, 'max_depth': 1, 'n_estimators': 250}\n",
      "0.942 (+/- 0.041) for {'learning_rate': 0.1, 'max_depth': 1, 'n_estimators': 500}\n",
      "0.958 (+/- 0.0) for {'learning_rate': 0.1, 'max_depth': 3, 'n_estimators': 5}\n",
      "0.95 (+/- 0.033) for {'learning_rate': 0.1, 'max_depth': 3, 'n_estimators': 50}\n",
      "0.942 (+/- 0.041) for {'learning_rate': 0.1, 'max_depth': 3, 'n_estimators': 250}\n",
      "0.95 (+/- 0.033) for {'learning_rate': 0.1, 'max_depth': 3, 'n_estimators': 500}\n",
      "0.95 (+/- 0.033) for {'learning_rate': 0.1, 'max_depth': 5, 'n_estimators': 5}\n",
      "0.95 (+/- 0.033) for {'learning_rate': 0.1, 'max_depth': 5, 'n_estimators': 50}\n",
      "0.95 (+/- 0.033) for {'learning_rate': 0.1, 'max_depth': 5, 'n_estimators': 250}\n",
      "0.95 (+/- 0.033) for {'learning_rate': 0.1, 'max_depth': 5, 'n_estimators': 500}\n",
      "0.942 (+/- 0.041) for {'learning_rate': 0.1, 'max_depth': 7, 'n_estimators': 5}\n",
      "0.95 (+/- 0.033) for {'learning_rate': 0.1, 'max_depth': 7, 'n_estimators': 50}\n",
      "0.95 (+/- 0.033) for {'learning_rate': 0.1, 'max_depth': 7, 'n_estimators': 250}\n",
      "0.942 (+/- 0.041) for {'learning_rate': 0.1, 'max_depth': 7, 'n_estimators': 500}\n",
      "0.95 (+/- 0.033) for {'learning_rate': 0.1, 'max_depth': 9, 'n_estimators': 5}\n",
      "0.95 (+/- 0.033) for {'learning_rate': 0.1, 'max_depth': 9, 'n_estimators': 50}\n",
      "0.942 (+/- 0.041) for {'learning_rate': 0.1, 'max_depth': 9, 'n_estimators': 250}\n",
      "0.942 (+/- 0.041) for {'learning_rate': 0.1, 'max_depth': 9, 'n_estimators': 500}\n",
      "0.95 (+/- 0.033) for {'learning_rate': 1, 'max_depth': 1, 'n_estimators': 5}\n",
      "0.933 (+/- 0.041) for {'learning_rate': 1, 'max_depth': 1, 'n_estimators': 50}\n",
      "0.925 (+/- 0.062) for {'learning_rate': 1, 'max_depth': 1, 'n_estimators': 250}\n",
      "0.917 (+/- 0.091) for {'learning_rate': 1, 'max_depth': 1, 'n_estimators': 500}\n",
      "0.967 (+/- 0.033) for {'learning_rate': 1, 'max_depth': 3, 'n_estimators': 5}\n",
      "0.95 (+/- 0.033) for {'learning_rate': 1, 'max_depth': 3, 'n_estimators': 50}\n",
      "0.95 (+/- 0.033) for {'learning_rate': 1, 'max_depth': 3, 'n_estimators': 250}\n",
      "0.95 (+/- 0.033) for {'learning_rate': 1, 'max_depth': 3, 'n_estimators': 500}\n",
      "0.95 (+/- 0.033) for {'learning_rate': 1, 'max_depth': 5, 'n_estimators': 5}\n",
      "0.942 (+/- 0.041) for {'learning_rate': 1, 'max_depth': 5, 'n_estimators': 50}\n",
      "0.95 (+/- 0.033) for {'learning_rate': 1, 'max_depth': 5, 'n_estimators': 250}\n",
      "0.942 (+/- 0.041) for {'learning_rate': 1, 'max_depth': 5, 'n_estimators': 500}\n",
      "0.95 (+/- 0.033) for {'learning_rate': 1, 'max_depth': 7, 'n_estimators': 5}\n",
      "0.942 (+/- 0.041) for {'learning_rate': 1, 'max_depth': 7, 'n_estimators': 50}\n",
      "0.942 (+/- 0.041) for {'learning_rate': 1, 'max_depth': 7, 'n_estimators': 250}\n",
      "0.95 (+/- 0.033) for {'learning_rate': 1, 'max_depth': 7, 'n_estimators': 500}\n",
      "0.942 (+/- 0.041) for {'learning_rate': 1, 'max_depth': 9, 'n_estimators': 5}\n",
      "0.95 (+/- 0.033) for {'learning_rate': 1, 'max_depth': 9, 'n_estimators': 50}\n",
      "0.942 (+/- 0.041) for {'learning_rate': 1, 'max_depth': 9, 'n_estimators': 250}\n",
      "0.942 (+/- 0.041) for {'learning_rate': 1, 'max_depth': 9, 'n_estimators': 500}\n",
      "0.208 (+/- 0.709) for {'learning_rate': 10, 'max_depth': 1, 'n_estimators': 5}\n",
      "0.208 (+/- 0.709) for {'learning_rate': 10, 'max_depth': 1, 'n_estimators': 50}\n",
      "0.208 (+/- 0.709) for {'learning_rate': 10, 'max_depth': 1, 'n_estimators': 250}\n",
      "0.208 (+/- 0.709) for {'learning_rate': 10, 'max_depth': 1, 'n_estimators': 500}\n",
      "0.942 (+/- 0.067) for {'learning_rate': 10, 'max_depth': 3, 'n_estimators': 5}\n",
      "0.917 (+/- 0.053) for {'learning_rate': 10, 'max_depth': 3, 'n_estimators': 50}\n",
      "0.933 (+/- 0.067) for {'learning_rate': 10, 'max_depth': 3, 'n_estimators': 250}\n",
      "0.925 (+/- 0.062) for {'learning_rate': 10, 'max_depth': 3, 'n_estimators': 500}\n",
      "0.958 (+/- 0.0) for {'learning_rate': 10, 'max_depth': 5, 'n_estimators': 5}\n",
      "0.958 (+/- 0.0) for {'learning_rate': 10, 'max_depth': 5, 'n_estimators': 50}\n",
      "0.958 (+/- 0.0) for {'learning_rate': 10, 'max_depth': 5, 'n_estimators': 250}\n",
      "0.95 (+/- 0.033) for {'learning_rate': 10, 'max_depth': 5, 'n_estimators': 500}\n",
      "0.95 (+/- 0.033) for {'learning_rate': 10, 'max_depth': 7, 'n_estimators': 5}\n",
      "0.958 (+/- 0.0) for {'learning_rate': 10, 'max_depth': 7, 'n_estimators': 50}\n",
      "0.95 (+/- 0.033) for {'learning_rate': 10, 'max_depth': 7, 'n_estimators': 250}\n",
      "0.95 (+/- 0.033) for {'learning_rate': 10, 'max_depth': 7, 'n_estimators': 500}\n",
      "0.958 (+/- 0.0) for {'learning_rate': 10, 'max_depth': 9, 'n_estimators': 5}\n",
      "0.95 (+/- 0.033) for {'learning_rate': 10, 'max_depth': 9, 'n_estimators': 50}\n",
      "0.958 (+/- 0.0) for {'learning_rate': 10, 'max_depth': 9, 'n_estimators': 250}\n",
      "0.95 (+/- 0.033) for {'learning_rate': 10, 'max_depth': 9, 'n_estimators': 500}\n",
      "0.208 (+/- 0.709) for {'learning_rate': 100, 'max_depth': 1, 'n_estimators': 5}\n",
      "0.208 (+/- 0.709) for {'learning_rate': 100, 'max_depth': 1, 'n_estimators': 50}\n",
      "0.208 (+/- 0.709) for {'learning_rate': 100, 'max_depth': 1, 'n_estimators': 250}\n",
      "0.208 (+/- 0.709) for {'learning_rate': 100, 'max_depth': 1, 'n_estimators': 500}\n",
      "0.925 (+/- 0.062) for {'learning_rate': 100, 'max_depth': 3, 'n_estimators': 5}\n",
      "0.925 (+/- 0.062) for {'learning_rate': 100, 'max_depth': 3, 'n_estimators': 50}\n",
      "0.925 (+/- 0.062) for {'learning_rate': 100, 'max_depth': 3, 'n_estimators': 250}\n",
      "0.917 (+/- 0.091) for {'learning_rate': 100, 'max_depth': 3, 'n_estimators': 500}\n",
      "0.958 (+/- 0.0) for {'learning_rate': 100, 'max_depth': 5, 'n_estimators': 5}\n",
      "0.958 (+/- 0.0) for {'learning_rate': 100, 'max_depth': 5, 'n_estimators': 50}\n",
      "0.958 (+/- 0.0) for {'learning_rate': 100, 'max_depth': 5, 'n_estimators': 250}\n",
      "0.95 (+/- 0.033) for {'learning_rate': 100, 'max_depth': 5, 'n_estimators': 500}\n",
      "0.95 (+/- 0.033) for {'learning_rate': 100, 'max_depth': 7, 'n_estimators': 5}\n",
      "0.95 (+/- 0.033) for {'learning_rate': 100, 'max_depth': 7, 'n_estimators': 50}\n",
      "0.958 (+/- 0.0) for {'learning_rate': 100, 'max_depth': 7, 'n_estimators': 250}\n",
      "0.958 (+/- 0.0) for {'learning_rate': 100, 'max_depth': 7, 'n_estimators': 500}\n",
      "0.95 (+/- 0.033) for {'learning_rate': 100, 'max_depth': 9, 'n_estimators': 5}\n",
      "0.958 (+/- 0.0) for {'learning_rate': 100, 'max_depth': 9, 'n_estimators': 50}\n",
      "0.958 (+/- 0.0) for {'learning_rate': 100, 'max_depth': 9, 'n_estimators': 250}\n",
      "0.958 (+/- 0.0) for {'learning_rate': 100, 'max_depth': 9, 'n_estimators': 500}\n"
     ]
    }
   ],
   "source": [
    "gb_parameters = {\n",
    "    'n_estimators': [5, 50, 250, 500],\n",
    "    'max_depth': [1, 3, 5, 7, 9],\n",
    "    'learning_rate': [0.01, 0.1, 1, 10, 100]\n",
    "}\n",
    "\n",
    "tune_hyperparameters(model = GradientBoostingClassifier(), input_params = gb_parameters, training_data = data3_training)"
   ]
  },
  {
   "cell_type": "markdown",
   "id": "c7dc0c9b",
   "metadata": {},
   "source": [
    "#### Building 3 Classifiers with top accuracy\n",
    "These 3 classifiers would be tested for validation set and the best one would be checked against test set."
   ]
  },
  {
   "cell_type": "code",
   "execution_count": 33,
   "id": "b6858021",
   "metadata": {},
   "outputs": [
    {
     "name": "stdout",
     "output_type": "stream",
     "text": [
      "VALIDATION SET\n",
      "learning_rate: 1, max_depth: 3, n_estimators: 5 -- Accuracy: 0.933, Precision: 0.933, Recall: 0.933\n",
      "learning_rate: 10, max_depth: 5, n_estimators: 5 -- Accuracy: 0.933, Precision: 0.933, Recall: 0.933\n",
      "learning_rate: 100, max_depth: 9, n_estimators: 500 -- Accuracy: 0.933, Precision: 0.933, Recall: 0.933\n",
      "\n",
      "TEST SET ON BEST MODEL\n",
      "learning_rate: 1, max_depth: 3, n_estimators: 5 -- Accuracy: 1.0, Precision: 1.0, Recall: 1.0\n"
     ]
    }
   ],
   "source": [
    "gb1 = GradientBoostingClassifier(learning_rate=1, max_depth=3, n_estimators=5) # Best Estimator\n",
    "gb2 = GradientBoostingClassifier(learning_rate=10, max_depth=5, n_estimators=5) \n",
    "gb3 = GradientBoostingClassifier(learning_rate=100, max_depth=9, n_estimators=500)  \n",
    "\n",
    "print(\"VALIDATION SET\")\n",
    "for gb_model in [gb1, gb2, gb3]:\n",
    "    #performance\n",
    "    prf = model_test_val_performance(model = gb_model, training_set = data3_training, check_set = data3_validation)\n",
    "    print(f\"learning_rate: {gb_model.learning_rate}, max_depth: {gb_model.max_depth}, n_estimators: {gb_model.n_estimators} -- Accuracy: {prf['acc']}, Precision: {prf['prc']}, Recall: {prf['rcl']}\")\n",
    "\n",
    "print(\"\\nTEST SET ON BEST MODEL\")\n",
    "prf = model_test_val_performance(model = gb1, training_set = data3_training, check_set = data3_test)\n",
    "print(f\"learning_rate: {gb1.learning_rate}, max_depth: {gb1.max_depth}, n_estimators: {gb1.n_estimators} -- Accuracy: {prf['acc']}, Precision: {prf['prc']}, Recall: {prf['rcl']}\")"
   ]
  },
  {
   "cell_type": "markdown",
   "id": "58dae166",
   "metadata": {},
   "source": [
    "### Observation:\n",
    "> The GradientBoostingClassifier did pretty well on both Validation set and Test set with accuracy over 93% and full accaracy on test set by Best Estimator."
   ]
  },
  {
   "cell_type": "markdown",
   "id": "f1ec62f4",
   "metadata": {},
   "source": [
    "### 7 D. Testing the best hyperparametrized classifiers on\n",
    "- Accuracy\n",
    "- Precision\n",
    "- Recall\n",
    "- Latency"
   ]
  },
  {
   "cell_type": "code",
   "execution_count": 35,
   "id": "4bdefdde",
   "metadata": {},
   "outputs": [
    {
     "name": "stdout",
     "output_type": "stream",
     "text": [
      "SVC -- Accuracy: 1.0 / Precision: 1.0 / Recall: 1.0 / Latency: 3.7ms\n",
      "RandomForestClassifier -- Accuracy: 0.867 / Precision: 0.867 / Recall: 0.867 / Latency: 4.0ms\n",
      "GradientBoostingClassifier -- Accuracy: 0.933 / Precision: 0.933 / Recall: 0.933 / Latency: 1.4ms\n"
     ]
    }
   ],
   "source": [
    "for mdl in [svc1, rf1, gb1]:\n",
    "    val_features = data3_validation['features']\n",
    "    start = time()\n",
    "    prediction = mdl.predict(val_features)\n",
    "    end = time()\n",
    "    val_label_true = data3_validation['labels']\n",
    "    acc = round(accuracy_score(val_label_true, prediction), 3)\n",
    "    prc = round(precision_score(val_label_true, prediction, average='micro'), 3)\n",
    "    rcl = round(recall_score(val_label_true, prediction, average='micro'), 3)\n",
    "    print('{} -- Accuracy: {} / Precision: {} / Recall: {} / Latency: {}ms'.format(type(mdl).__name__,\n",
    "                                                                                   acc,\n",
    "                                                                                   prc,\n",
    "                                                                                   rcl,\n",
    "                                                                                   round((end - start)*1000, 1)))"
   ]
  },
  {
   "cell_type": "markdown",
   "id": "2c1d5146",
   "metadata": {},
   "source": [
    "### Result: \n",
    "> The best classifier with best performance is : **SUPPORT VECTOR CLASSIFIER**"
   ]
  },
  {
   "cell_type": "markdown",
   "id": "822041c3",
   "metadata": {},
   "source": [
    "# 8. Final Result:\n",
    "#### The models performed well on 60% split ratio  as compared to 80% split ratio as the models had high accuracy on both validation and test set, where as best estimator for Random Forest didn't do well on validation set in 80% split ratio data. \n",
    "#### The best performing model among all the ones tested is \"SUPPORT VECTOR CLASSIFIER\" with absolute accuracy on validation set and 93% on test set in both the split ratios.."
   ]
  }
 ],
 "metadata": {
  "kernelspec": {
   "display_name": "Python 3 (ipykernel)",
   "language": "python",
   "name": "python3"
  },
  "language_info": {
   "codemirror_mode": {
    "name": "ipython",
    "version": 3
   },
   "file_extension": ".py",
   "mimetype": "text/x-python",
   "name": "python",
   "nbconvert_exporter": "python",
   "pygments_lexer": "ipython3",
   "version": "3.9.9"
  }
 },
 "nbformat": 4,
 "nbformat_minor": 5
}
